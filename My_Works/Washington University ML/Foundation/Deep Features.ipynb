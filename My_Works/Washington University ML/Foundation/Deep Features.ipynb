{
 "cells": [
  {
   "cell_type": "code",
   "execution_count": 1,
   "metadata": {},
   "outputs": [],
   "source": [
    "import turicreate as tc"
   ]
  },
  {
   "cell_type": "markdown",
   "metadata": {},
   "source": [
    "## load"
   ]
  },
  {
   "cell_type": "code",
   "execution_count": 2,
   "metadata": {},
   "outputs": [],
   "source": [
    "image_train=tc.SFrame('image_train_data/')"
   ]
  },
  {
   "cell_type": "code",
   "execution_count": 3,
   "metadata": {},
   "outputs": [
    {
     "data": {
      "text/html": [
       "<div style=\"max-height:1000px;max-width:1500px;overflow:auto;\"><table frame=\"box\" rules=\"cols\">\n",
       "    <tr>\n",
       "        <th style=\"padding-left: 1em; padding-right: 1em; text-align: center\">id</th>\n",
       "        <th style=\"padding-left: 1em; padding-right: 1em; text-align: center\">image</th>\n",
       "        <th style=\"padding-left: 1em; padding-right: 1em; text-align: center\">label</th>\n",
       "        <th style=\"padding-left: 1em; padding-right: 1em; text-align: center\">deep_features</th>\n",
       "        <th style=\"padding-left: 1em; padding-right: 1em; text-align: center\">image_array</th>\n",
       "    </tr>\n",
       "    <tr>\n",
       "        <td style=\"padding-left: 1em; padding-right: 1em; text-align: center; vertical-align: top\">24</td>\n",
       "        <td style=\"padding-left: 1em; padding-right: 1em; text-align: center; vertical-align: top\">Height: 32 Width: 32</td>\n",
       "        <td style=\"padding-left: 1em; padding-right: 1em; text-align: center; vertical-align: top\">bird</td>\n",
       "        <td style=\"padding-left: 1em; padding-right: 1em; text-align: center; vertical-align: top\">[0.24287176132202148,<br>1.0954537391662598, 0.0, ...</td>\n",
       "        <td style=\"padding-left: 1em; padding-right: 1em; text-align: center; vertical-align: top\">[73.0, 77.0, 58.0, 71.0,<br>68.0, 50.0, 77.0, 69.0, ...</td>\n",
       "    </tr>\n",
       "    <tr>\n",
       "        <td style=\"padding-left: 1em; padding-right: 1em; text-align: center; vertical-align: top\">33</td>\n",
       "        <td style=\"padding-left: 1em; padding-right: 1em; text-align: center; vertical-align: top\">Height: 32 Width: 32</td>\n",
       "        <td style=\"padding-left: 1em; padding-right: 1em; text-align: center; vertical-align: top\">cat</td>\n",
       "        <td style=\"padding-left: 1em; padding-right: 1em; text-align: center; vertical-align: top\">[0.5250879526138306, 0.0,<br>0.0, 0.0, 0.0, 0.0, ...</td>\n",
       "        <td style=\"padding-left: 1em; padding-right: 1em; text-align: center; vertical-align: top\">[7.0, 5.0, 8.0, 7.0, 5.0,<br>8.0, 5.0, 4.0, 6.0, 7.0, ...</td>\n",
       "    </tr>\n",
       "    <tr>\n",
       "        <td style=\"padding-left: 1em; padding-right: 1em; text-align: center; vertical-align: top\">36</td>\n",
       "        <td style=\"padding-left: 1em; padding-right: 1em; text-align: center; vertical-align: top\">Height: 32 Width: 32</td>\n",
       "        <td style=\"padding-left: 1em; padding-right: 1em; text-align: center; vertical-align: top\">cat</td>\n",
       "        <td style=\"padding-left: 1em; padding-right: 1em; text-align: center; vertical-align: top\">[0.5660159587860107, 0.0,<br>0.0, 0.0, 0.0, 0.0, ...</td>\n",
       "        <td style=\"padding-left: 1em; padding-right: 1em; text-align: center; vertical-align: top\">[169.0, 122.0, 65.0,<br>131.0, 108.0, 75.0, ...</td>\n",
       "    </tr>\n",
       "    <tr>\n",
       "        <td style=\"padding-left: 1em; padding-right: 1em; text-align: center; vertical-align: top\">70</td>\n",
       "        <td style=\"padding-left: 1em; padding-right: 1em; text-align: center; vertical-align: top\">Height: 32 Width: 32</td>\n",
       "        <td style=\"padding-left: 1em; padding-right: 1em; text-align: center; vertical-align: top\">dog</td>\n",
       "        <td style=\"padding-left: 1em; padding-right: 1em; text-align: center; vertical-align: top\">[1.129795789718628, 0.0,<br>0.0, 0.7781944870948792, ...</td>\n",
       "        <td style=\"padding-left: 1em; padding-right: 1em; text-align: center; vertical-align: top\">[154.0, 179.0, 152.0,<br>159.0, 183.0, 157.0, ...</td>\n",
       "    </tr>\n",
       "    <tr>\n",
       "        <td style=\"padding-left: 1em; padding-right: 1em; text-align: center; vertical-align: top\">90</td>\n",
       "        <td style=\"padding-left: 1em; padding-right: 1em; text-align: center; vertical-align: top\">Height: 32 Width: 32</td>\n",
       "        <td style=\"padding-left: 1em; padding-right: 1em; text-align: center; vertical-align: top\">bird</td>\n",
       "        <td style=\"padding-left: 1em; padding-right: 1em; text-align: center; vertical-align: top\">[1.7178692817687988, 0.0,<br>0.0, 0.0, 0.0, 0.0, ...</td>\n",
       "        <td style=\"padding-left: 1em; padding-right: 1em; text-align: center; vertical-align: top\">[216.0, 195.0, 180.0,<br>201.0, 178.0, 160.0, ...</td>\n",
       "    </tr>\n",
       "    <tr>\n",
       "        <td style=\"padding-left: 1em; padding-right: 1em; text-align: center; vertical-align: top\">97</td>\n",
       "        <td style=\"padding-left: 1em; padding-right: 1em; text-align: center; vertical-align: top\">Height: 32 Width: 32</td>\n",
       "        <td style=\"padding-left: 1em; padding-right: 1em; text-align: center; vertical-align: top\">automobile</td>\n",
       "        <td style=\"padding-left: 1em; padding-right: 1em; text-align: center; vertical-align: top\">[1.5781855583190918, 0.0,<br>0.0, 0.0, 0.0, 0.0, ...</td>\n",
       "        <td style=\"padding-left: 1em; padding-right: 1em; text-align: center; vertical-align: top\">[33.0, 44.0, 27.0, 29.0,<br>44.0, 31.0, 32.0, 45.0, ...</td>\n",
       "    </tr>\n",
       "    <tr>\n",
       "        <td style=\"padding-left: 1em; padding-right: 1em; text-align: center; vertical-align: top\">107</td>\n",
       "        <td style=\"padding-left: 1em; padding-right: 1em; text-align: center; vertical-align: top\">Height: 32 Width: 32</td>\n",
       "        <td style=\"padding-left: 1em; padding-right: 1em; text-align: center; vertical-align: top\">dog</td>\n",
       "        <td style=\"padding-left: 1em; padding-right: 1em; text-align: center; vertical-align: top\">[0.0, 0.0,<br>0.22067785263061523,  ...</td>\n",
       "        <td style=\"padding-left: 1em; padding-right: 1em; text-align: center; vertical-align: top\">[97.0, 51.0, 31.0, 104.0,<br>58.0, 38.0, 107.0, 61.0, ...</td>\n",
       "    </tr>\n",
       "    <tr>\n",
       "        <td style=\"padding-left: 1em; padding-right: 1em; text-align: center; vertical-align: top\">121</td>\n",
       "        <td style=\"padding-left: 1em; padding-right: 1em; text-align: center; vertical-align: top\">Height: 32 Width: 32</td>\n",
       "        <td style=\"padding-left: 1em; padding-right: 1em; text-align: center; vertical-align: top\">bird</td>\n",
       "        <td style=\"padding-left: 1em; padding-right: 1em; text-align: center; vertical-align: top\">[0.0,<br>0.23753464221954346,  ...</td>\n",
       "        <td style=\"padding-left: 1em; padding-right: 1em; text-align: center; vertical-align: top\">[93.0, 96.0, 88.0, 102.0,<br>106.0, 97.0, 117.0, ...</td>\n",
       "    </tr>\n",
       "    <tr>\n",
       "        <td style=\"padding-left: 1em; padding-right: 1em; text-align: center; vertical-align: top\">136</td>\n",
       "        <td style=\"padding-left: 1em; padding-right: 1em; text-align: center; vertical-align: top\">Height: 32 Width: 32</td>\n",
       "        <td style=\"padding-left: 1em; padding-right: 1em; text-align: center; vertical-align: top\">automobile</td>\n",
       "        <td style=\"padding-left: 1em; padding-right: 1em; text-align: center; vertical-align: top\">[0.0, 0.0, 0.0, 0.0, 0.0,<br>0.0, 7.57378625869751, ...</td>\n",
       "        <td style=\"padding-left: 1em; padding-right: 1em; text-align: center; vertical-align: top\">[35.0, 59.0, 53.0, 36.0,<br>56.0, 56.0, 42.0, 62.0, ...</td>\n",
       "    </tr>\n",
       "    <tr>\n",
       "        <td style=\"padding-left: 1em; padding-right: 1em; text-align: center; vertical-align: top\">138</td>\n",
       "        <td style=\"padding-left: 1em; padding-right: 1em; text-align: center; vertical-align: top\">Height: 32 Width: 32</td>\n",
       "        <td style=\"padding-left: 1em; padding-right: 1em; text-align: center; vertical-align: top\">bird</td>\n",
       "        <td style=\"padding-left: 1em; padding-right: 1em; text-align: center; vertical-align: top\">[0.6589357256889343, 0.0,<br>0.0, 0.0, 0.0, 0.0, ...</td>\n",
       "        <td style=\"padding-left: 1em; padding-right: 1em; text-align: center; vertical-align: top\">[205.0, 193.0, 195.0,<br>200.0, 187.0, 193.0, ...</td>\n",
       "    </tr>\n",
       "</table>\n",
       "[10 rows x 5 columns]<br/>\n",
       "</div>"
      ],
      "text/plain": [
       "Columns:\n",
       "\tid\tint\n",
       "\timage\tImage\n",
       "\tlabel\tstr\n",
       "\tdeep_features\tarray\n",
       "\timage_array\tarray\n",
       "\n",
       "Rows: 10\n",
       "\n",
       "Data:\n",
       "+-----+----------------------+------------+-------------------------------+\n",
       "|  id |        image         |   label    |         deep_features         |\n",
       "+-----+----------------------+------------+-------------------------------+\n",
       "|  24 | Height: 32 Width: 32 |    bird    | [0.24287176132202148, 1.09... |\n",
       "|  33 | Height: 32 Width: 32 |    cat     | [0.5250879526138306, 0.0, ... |\n",
       "|  36 | Height: 32 Width: 32 |    cat     | [0.5660159587860107, 0.0, ... |\n",
       "|  70 | Height: 32 Width: 32 |    dog     | [1.129795789718628, 0.0, 0... |\n",
       "|  90 | Height: 32 Width: 32 |    bird    | [1.7178692817687988, 0.0, ... |\n",
       "|  97 | Height: 32 Width: 32 | automobile | [1.5781855583190918, 0.0, ... |\n",
       "| 107 | Height: 32 Width: 32 |    dog     | [0.0, 0.0, 0.2206778526306... |\n",
       "| 121 | Height: 32 Width: 32 |    bird    | [0.0, 0.23753464221954346,... |\n",
       "| 136 | Height: 32 Width: 32 | automobile | [0.0, 0.0, 0.0, 0.0, 0.0, ... |\n",
       "| 138 | Height: 32 Width: 32 |    bird    | [0.6589357256889343, 0.0, ... |\n",
       "+-----+----------------------+------------+-------------------------------+\n",
       "+-------------------------------+\n",
       "|          image_array          |\n",
       "+-------------------------------+\n",
       "| [73.0, 77.0, 58.0, 71.0, 6... |\n",
       "| [7.0, 5.0, 8.0, 7.0, 5.0, ... |\n",
       "| [169.0, 122.0, 65.0, 131.0... |\n",
       "| [154.0, 179.0, 152.0, 159.... |\n",
       "| [216.0, 195.0, 180.0, 201.... |\n",
       "| [33.0, 44.0, 27.0, 29.0, 4... |\n",
       "| [97.0, 51.0, 31.0, 104.0, ... |\n",
       "| [93.0, 96.0, 88.0, 102.0, ... |\n",
       "| [35.0, 59.0, 53.0, 36.0, 5... |\n",
       "| [205.0, 193.0, 195.0, 200.... |\n",
       "+-------------------------------+\n",
       "[10 rows x 5 columns]"
      ]
     },
     "execution_count": 3,
     "metadata": {},
     "output_type": "execute_result"
    }
   ],
   "source": [
    "image_train.head()"
   ]
  },
  {
   "cell_type": "markdown",
   "metadata": {},
   "source": [
    "## train knn using deep features"
   ]
  },
  {
   "cell_type": "code",
   "execution_count": 4,
   "metadata": {},
   "outputs": [
    {
     "data": {
      "text/html": [
       "<pre>Starting brute force nearest neighbors model training.</pre>"
      ],
      "text/plain": [
       "Starting brute force nearest neighbors model training."
      ]
     },
     "metadata": {},
     "output_type": "display_data"
    },
    {
     "data": {
      "text/html": [
       "<pre>Validating distance components.</pre>"
      ],
      "text/plain": [
       "Validating distance components."
      ]
     },
     "metadata": {},
     "output_type": "display_data"
    },
    {
     "data": {
      "text/html": [
       "<pre>Initializing model data.</pre>"
      ],
      "text/plain": [
       "Initializing model data."
      ]
     },
     "metadata": {},
     "output_type": "display_data"
    },
    {
     "data": {
      "text/html": [
       "<pre>Initializing distances.</pre>"
      ],
      "text/plain": [
       "Initializing distances."
      ]
     },
     "metadata": {},
     "output_type": "display_data"
    },
    {
     "data": {
      "text/html": [
       "<pre>Done.</pre>"
      ],
      "text/plain": [
       "Done."
      ]
     },
     "metadata": {},
     "output_type": "display_data"
    }
   ],
   "source": [
    "knn_model=tc.nearest_neighbors.create(image_train,features=['deep_features']\n",
    "                                     ,label='id')"
   ]
  },
  {
   "cell_type": "markdown",
   "metadata": {},
   "source": [
    "### applying similarity"
   ]
  },
  {
   "cell_type": "code",
   "execution_count": 5,
   "metadata": {},
   "outputs": [
    {
     "data": {
      "text/html": [
       "<div style=\"max-height:1000px;max-width:1500px;overflow:auto;\"><table frame=\"box\" rules=\"cols\">\n",
       "    <tr>\n",
       "        <th style=\"padding-left: 1em; padding-right: 1em; text-align: center\">id</th>\n",
       "        <th style=\"padding-left: 1em; padding-right: 1em; text-align: center\">image</th>\n",
       "        <th style=\"padding-left: 1em; padding-right: 1em; text-align: center\">label</th>\n",
       "        <th style=\"padding-left: 1em; padding-right: 1em; text-align: center\">deep_features</th>\n",
       "        <th style=\"padding-left: 1em; padding-right: 1em; text-align: center\">image_array</th>\n",
       "    </tr>\n",
       "    <tr>\n",
       "        <td style=\"padding-left: 1em; padding-right: 1em; text-align: center; vertical-align: top\">384</td>\n",
       "        <td style=\"padding-left: 1em; padding-right: 1em; text-align: center; vertical-align: top\">Height: 32 Width: 32</td>\n",
       "        <td style=\"padding-left: 1em; padding-right: 1em; text-align: center; vertical-align: top\">cat</td>\n",
       "        <td style=\"padding-left: 1em; padding-right: 1em; text-align: center; vertical-align: top\">[1.0440353155136108, 0.0,<br>0.0, 0.0, 0.0, 0.0, ...</td>\n",
       "        <td style=\"padding-left: 1em; padding-right: 1em; text-align: center; vertical-align: top\">[46.0, 45.0, 50.0, 47.0,<br>45.0, 51.0, 45.0, 44.0, ...</td>\n",
       "    </tr>\n",
       "</table>\n",
       "[1 rows x 5 columns]<br/>\n",
       "</div>"
      ],
      "text/plain": [
       "Columns:\n",
       "\tid\tint\n",
       "\timage\tImage\n",
       "\tlabel\tstr\n",
       "\tdeep_features\tarray\n",
       "\timage_array\tarray\n",
       "\n",
       "Rows: 1\n",
       "\n",
       "Data:\n",
       "+-----+----------------------+-------+-------------------------------+\n",
       "|  id |        image         | label |         deep_features         |\n",
       "+-----+----------------------+-------+-------------------------------+\n",
       "| 384 | Height: 32 Width: 32 |  cat  | [1.0440353155136108, 0.0, ... |\n",
       "+-----+----------------------+-------+-------------------------------+\n",
       "+-------------------------------+\n",
       "|          image_array          |\n",
       "+-------------------------------+\n",
       "| [46.0, 45.0, 50.0, 47.0, 4... |\n",
       "+-------------------------------+\n",
       "[1 rows x 5 columns]"
      ]
     },
     "execution_count": 5,
     "metadata": {},
     "output_type": "execute_result"
    }
   ],
   "source": [
    "cat=image_train[18:19]\n",
    "cat"
   ]
  },
  {
   "cell_type": "code",
   "execution_count": 6,
   "metadata": {},
   "outputs": [
    {
     "data": {
      "text/html": [
       "<pre>Starting pairwise querying.</pre>"
      ],
      "text/plain": [
       "Starting pairwise querying."
      ]
     },
     "metadata": {},
     "output_type": "display_data"
    },
    {
     "data": {
      "text/html": [
       "<pre>+--------------+---------+-------------+--------------+</pre>"
      ],
      "text/plain": [
       "+--------------+---------+-------------+--------------+"
      ]
     },
     "metadata": {},
     "output_type": "display_data"
    },
    {
     "data": {
      "text/html": [
       "<pre>| Query points | # Pairs | % Complete. | Elapsed Time |</pre>"
      ],
      "text/plain": [
       "| Query points | # Pairs | % Complete. | Elapsed Time |"
      ]
     },
     "metadata": {},
     "output_type": "display_data"
    },
    {
     "data": {
      "text/html": [
       "<pre>+--------------+---------+-------------+--------------+</pre>"
      ],
      "text/plain": [
       "+--------------+---------+-------------+--------------+"
      ]
     },
     "metadata": {},
     "output_type": "display_data"
    },
    {
     "data": {
      "text/html": [
       "<pre>| 0            | 1       | 0.0498753   | 8.487ms      |</pre>"
      ],
      "text/plain": [
       "| 0            | 1       | 0.0498753   | 8.487ms      |"
      ]
     },
     "metadata": {},
     "output_type": "display_data"
    },
    {
     "data": {
      "text/html": [
       "<pre>| Done         |         | 100         | 193.44ms     |</pre>"
      ],
      "text/plain": [
       "| Done         |         | 100         | 193.44ms     |"
      ]
     },
     "metadata": {},
     "output_type": "display_data"
    },
    {
     "data": {
      "text/html": [
       "<pre>+--------------+---------+-------------+--------------+</pre>"
      ],
      "text/plain": [
       "+--------------+---------+-------------+--------------+"
      ]
     },
     "metadata": {},
     "output_type": "display_data"
    },
    {
     "data": {
      "text/html": [
       "<div style=\"max-height:1000px;max-width:1500px;overflow:auto;\"><table frame=\"box\" rules=\"cols\">\n",
       "    <tr>\n",
       "        <th style=\"padding-left: 1em; padding-right: 1em; text-align: center\">query_label</th>\n",
       "        <th style=\"padding-left: 1em; padding-right: 1em; text-align: center\">reference_label</th>\n",
       "        <th style=\"padding-left: 1em; padding-right: 1em; text-align: center\">distance</th>\n",
       "        <th style=\"padding-left: 1em; padding-right: 1em; text-align: center\">rank</th>\n",
       "    </tr>\n",
       "    <tr>\n",
       "        <td style=\"padding-left: 1em; padding-right: 1em; text-align: center; vertical-align: top\">0</td>\n",
       "        <td style=\"padding-left: 1em; padding-right: 1em; text-align: center; vertical-align: top\">384</td>\n",
       "        <td style=\"padding-left: 1em; padding-right: 1em; text-align: center; vertical-align: top\">0.0</td>\n",
       "        <td style=\"padding-left: 1em; padding-right: 1em; text-align: center; vertical-align: top\">1</td>\n",
       "    </tr>\n",
       "    <tr>\n",
       "        <td style=\"padding-left: 1em; padding-right: 1em; text-align: center; vertical-align: top\">0</td>\n",
       "        <td style=\"padding-left: 1em; padding-right: 1em; text-align: center; vertical-align: top\">6910</td>\n",
       "        <td style=\"padding-left: 1em; padding-right: 1em; text-align: center; vertical-align: top\">36.94031379506751</td>\n",
       "        <td style=\"padding-left: 1em; padding-right: 1em; text-align: center; vertical-align: top\">2</td>\n",
       "    </tr>\n",
       "    <tr>\n",
       "        <td style=\"padding-left: 1em; padding-right: 1em; text-align: center; vertical-align: top\">0</td>\n",
       "        <td style=\"padding-left: 1em; padding-right: 1em; text-align: center; vertical-align: top\">39777</td>\n",
       "        <td style=\"padding-left: 1em; padding-right: 1em; text-align: center; vertical-align: top\">38.46348889747021</td>\n",
       "        <td style=\"padding-left: 1em; padding-right: 1em; text-align: center; vertical-align: top\">3</td>\n",
       "    </tr>\n",
       "    <tr>\n",
       "        <td style=\"padding-left: 1em; padding-right: 1em; text-align: center; vertical-align: top\">0</td>\n",
       "        <td style=\"padding-left: 1em; padding-right: 1em; text-align: center; vertical-align: top\">36870</td>\n",
       "        <td style=\"padding-left: 1em; padding-right: 1em; text-align: center; vertical-align: top\">39.75596231189652</td>\n",
       "        <td style=\"padding-left: 1em; padding-right: 1em; text-align: center; vertical-align: top\">4</td>\n",
       "    </tr>\n",
       "    <tr>\n",
       "        <td style=\"padding-left: 1em; padding-right: 1em; text-align: center; vertical-align: top\">0</td>\n",
       "        <td style=\"padding-left: 1em; padding-right: 1em; text-align: center; vertical-align: top\">41734</td>\n",
       "        <td style=\"padding-left: 1em; padding-right: 1em; text-align: center; vertical-align: top\">39.786601414815024</td>\n",
       "        <td style=\"padding-left: 1em; padding-right: 1em; text-align: center; vertical-align: top\">5</td>\n",
       "    </tr>\n",
       "</table>\n",
       "[5 rows x 4 columns]<br/>\n",
       "</div>"
      ],
      "text/plain": [
       "Columns:\n",
       "\tquery_label\tint\n",
       "\treference_label\tint\n",
       "\tdistance\tfloat\n",
       "\trank\tint\n",
       "\n",
       "Rows: 5\n",
       "\n",
       "Data:\n",
       "+-------------+-----------------+--------------------+------+\n",
       "| query_label | reference_label |      distance      | rank |\n",
       "+-------------+-----------------+--------------------+------+\n",
       "|      0      |       384       |        0.0         |  1   |\n",
       "|      0      |       6910      | 36.94031379506751  |  2   |\n",
       "|      0      |      39777      | 38.46348889747021  |  3   |\n",
       "|      0      |      36870      | 39.75596231189652  |  4   |\n",
       "|      0      |      41734      | 39.786601414815024 |  5   |\n",
       "+-------------+-----------------+--------------------+------+\n",
       "[5 rows x 4 columns]"
      ]
     },
     "execution_count": 6,
     "metadata": {},
     "output_type": "execute_result"
    }
   ],
   "source": [
    "knn_model.query(cat)"
   ]
  },
  {
   "cell_type": "code",
   "execution_count": 7,
   "metadata": {},
   "outputs": [],
   "source": [
    "def get_images_from_id(query_result):\n",
    "    return image_train.filter_by(query_result['reference_label'],'id')"
   ]
  },
  {
   "cell_type": "code",
   "execution_count": 15,
   "metadata": {},
   "outputs": [
    {
     "data": {
      "text/html": [
       "<pre>Starting pairwise querying.</pre>"
      ],
      "text/plain": [
       "Starting pairwise querying."
      ]
     },
     "metadata": {},
     "output_type": "display_data"
    },
    {
     "data": {
      "text/html": [
       "<pre>+--------------+---------+-------------+--------------+</pre>"
      ],
      "text/plain": [
       "+--------------+---------+-------------+--------------+"
      ]
     },
     "metadata": {},
     "output_type": "display_data"
    },
    {
     "data": {
      "text/html": [
       "<pre>| Query points | # Pairs | % Complete. | Elapsed Time |</pre>"
      ],
      "text/plain": [
       "| Query points | # Pairs | % Complete. | Elapsed Time |"
      ]
     },
     "metadata": {},
     "output_type": "display_data"
    },
    {
     "data": {
      "text/html": [
       "<pre>+--------------+---------+-------------+--------------+</pre>"
      ],
      "text/plain": [
       "+--------------+---------+-------------+--------------+"
      ]
     },
     "metadata": {},
     "output_type": "display_data"
    },
    {
     "data": {
      "text/html": [
       "<pre>| 0            | 1       | 0.0498753   | 8.42ms       |</pre>"
      ],
      "text/plain": [
       "| 0            | 1       | 0.0498753   | 8.42ms       |"
      ]
     },
     "metadata": {},
     "output_type": "display_data"
    },
    {
     "data": {
      "text/html": [
       "<pre>| Done         |         | 100         | 191.177ms    |</pre>"
      ],
      "text/plain": [
       "| Done         |         | 100         | 191.177ms    |"
      ]
     },
     "metadata": {},
     "output_type": "display_data"
    },
    {
     "data": {
      "text/html": [
       "<pre>+--------------+---------+-------------+--------------+</pre>"
      ],
      "text/plain": [
       "+--------------+---------+-------------+--------------+"
      ]
     },
     "metadata": {},
     "output_type": "display_data"
    },
    {
     "data": {
      "text/html": [
       "<html lang=\"en\">                                                     <head>                                                               <style>                                                              .sframe {                                                            font-size: 12px;                                                   font-family: HelveticaNeue;                                        border: 1px solid silver;                                        }                                                                  .sframe thead th {                                                   background: #F7F7F7;                                               font-family: HelveticaNeue-Medium;                                 font-size: 14px;                                                   line-height: 16.8px;                                               padding-top: 16px;                                                 padding-bottom: 16px;                                              padding-left: 10px;                                                padding-right: 38px;                                               border-top: 1px solid #E9E9E9;                                     border-bottom: 1px solid #E9E9E9;                                  white-space: nowrap;                                               overflow: hidden;                                                  text-overflow:ellipsis;                                            text-align:center;                                                 font-weight:normal;                                              }                                                                  .sframe tbody th {                                                   background: #FFFFFF;                                               text-align:left;                                                   font-weight:normal;                                                border-right: 1px solid #E9E9E9;                                 }                                                                  .sframe td {                                                         background: #FFFFFF;                                               padding-left: 10px;                                                padding-right: 38px;                                               padding-top: 14px;                                                 padding-bottom: 14px;                                              border-bottom: 1px solid #E9E9E9;                                  max-height: 0px;                                                   transition: max-height 5s ease-out;                                vertical-align: middle;                                            font-family: HelveticaNeue;                                        font-size: 12px;                                                   line-height: 16.8px;                                               background: #FFFFFF;                                             }                                                                  .sframe tr {                                                         padding-left: 10px;                                                padding-right: 38px;                                               padding-top: 14px;                                                 padding-bottom: 14px;                                              border-bottom: 1px solid #E9E9E9;                                  max-height: 0px;                                                   transition: max-height 5s ease-out;                                vertical-align: middle;                                            font-family: HelveticaNeue;                                        font-size: 12px;                                                   line-height: 16.8px;                                               background: #FFFFFF;                                             }                                                                  .sframe tr:hover {                                                   background: silver;                                              },                                                               </style>                                                         </head>                                                            <body>                                                               <h1>  </h1>                                             <table border=\"1\" class=\"dataframe sframe\">\n",
       "  <thead>\n",
       "    <tr style=\"text-align: right;\">\n",
       "      <th></th>\n",
       "      <th>id</th>\n",
       "      <th>image</th>\n",
       "      <th>label</th>\n",
       "      <th>deep_features</th>\n",
       "      <th>image_array</th>\n",
       "    </tr>\n",
       "  </thead>\n",
       "  <tbody>\n",
       "    <tr>\n",
       "      <th>0</th>\n",
       "      <td>384</td>\n",
       "      <td><img src=\"data:image/png;base64,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\"/></td>\n",
       "      <td>cat</td>\n",
       "      <td>[1.0440353155136108, 0.0, 0.0, 0.0, 0.0, 0.0, 9.495406150817871, 0.0, 0.0, 0.0, 0.0, 0.0, 1.015682339668274, 0.654792070388794, 0.0, 0.3271738886833191, 0.0, 0.0, 0.0, 1.240085482597351, 0.0, 2.6598682403564453, 0.0, 0.0, 0.0, 0.16509848833084106, 0.0, 0.6701491475105286, 0.0, 0.0, 0.0, 0.0, 0.417128324508667, 0.0, 0.0, 0.0, 0.0, 0.0, 0.0, 0.0, 0.0, 0.0, 1.8625438213348389, 0.0, 0.47617536783218384, 1.9455668926239014, 0.0, 0.0, 0.6290905475616455, 0.0, 0.0, 0.0, 0.0, 0.0, 0.0, 0.0, 0.0, 0.0, 0.0, 0.0, 0.0, 0.0, 0.0, 0.6789456605911255, 0.0, 0.1041874885559082, 4.074601173400879, 0.0, 0.0, 0.0, 0.08778756856918335, 0.0, 0.35365527868270874, 0.0, 0.0, 0.23898005485534668, 0.0, 0.0, 0.0, 0.0, 0.0, 0.0, 0.0, 0.0, 0.0, 0.0, 0.0, 0.0, 0.0, 0.0, 0.0, 1.9145865440368652, 0.0, 0.0, 0.0, 0.0, 0.0, 0.0, 0.0, 0.0, ...]</td>\n",
       "      <td>[46.0, 45.0, 50.0, 47.0, 45.0, 51.0, 45.0, 44.0, 49.0, 41.0, 40.0, 45.0, 35.0, 34.0, 39.0, 28.0, 27.0, 32.0, 22.0, 21.0, 25.0, 16.0, 15.0, 18.0, 12.0, 12.0, 14.0, 12.0, 11.0, 14.0, 10.0, 10.0, 13.0, 8.0, 8.0, 10.0, 5.0, 5.0, 7.0, 3.0, 2.0, 4.0, 2.0, 2.0, 3.0, 2.0, 2.0, 2.0, 3.0, 3.0, 3.0, 4.0, 4.0, 4.0, 3.0, 3.0, 3.0, 3.0, 3.0, 3.0, 4.0, 4.0, 4.0, 5.0, 5.0, 6.0, 4.0, 3.0, 7.0, 4.0, 3.0, 8.0, 4.0, 3.0, 8.0, 4.0, 3.0, 8.0, 4.0, 3.0, 8.0, 4.0, 3.0, 8.0, 4.0, 3.0, 8.0, 4.0, 3.0, 9.0, 4.0, 3.0, 11.0, 4.0, 3.0, 11.0, 40.0, 39.0, 44.0, 43.0, ...]</td>\n",
       "    </tr>\n",
       "    <tr>\n",
       "      <th>1</th>\n",
       "      <td>6910</td>\n",
       "      <td><img src=\"data:image/png;base64,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\"/></td>\n",
       "      <td>cat</td>\n",
       "      <td>[1.5547490119934082, 0.0, 0.0, 0.0, 0.0, 0.0, 10.192292213439941, 0.0, 0.0, 0.0, 0.0, 0.0, 0.7935070395469666, 0.0, 0.0, 0.983633279800415, 0.03533750772476196, 0.0, 0.0, 0.5713701248168945, 0.0, 0.1918395757675171, 0.0, 0.0, 0.0, 0.7268734574317932, 0.22811579704284668, 0.0, 0.0, 0.0, 0.0, 0.0, 0.14733248949050903, 0.0, 0.0, 0.07514137029647827, 0.0, 0.0, 1.6613574028015137, 0.01919686794281006, 0.0, 0.0, 1.031715989112854, 0.0, 0.4191089868545532, 1.3390674591064453, 0.0, 0.0, 0.1759464144706726, 0.0, 0.0, 0.0, 0.0, 0.0, 0.0, 0.0, 0.0, 0.0, 0.0, 0.0, 0.0, 0.0, 0.0, 1.5368458032608032, 0.0, 0.0, 1.518348217010498, 0.0, 0.0, 0.0, 0.0, 0.0, 1.0972967147827148, 0.0, 0.0, 1.2413746118545532, 0.0, 0.0, 0.0, 0.8835700750350952, 0.8703463077545166, 0.0, 0.0, 0.0, 0.0, 0.0, 0.0, 0.0, 0.0, 0.0, 0.0, 1.5377819538116455, 0.0, 0.0, 0.0, 0.0, 0.0, 0.0, 0.0, 0.0, ...]</td>\n",
       "      <td>[154.0, 133.0, 92.0, 134.0, 112.0, 75.0, 108.0, 87.0, 53.0, 98.0, 78.0, 45.0, 104.0, 86.0, 51.0, 109.0, 92.0, 57.0, 103.0, 86.0, 54.0, 97.0, 82.0, 53.0, 89.0, 76.0, 47.0, 111.0, 99.0, 70.0, 132.0, 119.0, 88.0, 139.0, 124.0, 90.0, 146.0, 129.0, 94.0, 124.0, 108.0, 75.0, 86.0, 73.0, 44.0, 104.0, 93.0, 68.0, 89.0, 79.0, 56.0, 72.0, 60.0, 37.0, 112.0, 99.0, 73.0, 120.0, 108.0, 75.0, 134.0, 122.0, 89.0, 149.0, 138.0, 107.0, 136.0, 127.0, 99.0, 94.0, 87.0, 61.0, 83.0, 77.0, 53.0, 94.0, 86.0, 60.0, 104.0, 94.0, 64.0, 111.0, 100.0, 71.0, 101.0, 90.0, 61.0, 96.0, 84.0, 57.0, 100.0, 88.0, 61.0, 113.0, 101.0, 75.0, 151.0, 125.0, 76.0, 138.0, ...]</td>\n",
       "    </tr>\n",
       "    <tr>\n",
       "      <th>2</th>\n",
       "      <td>36870</td>\n",
       "      <td><img src=\"data:image/png;base64,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\"/></td>\n",
       "      <td>cat</td>\n",
       "      <td>[0.24048322439193726, 0.0, 0.0, 0.0, 0.0, 0.0, 9.527539253234863, 0.0, 0.0, 0.0, 0.0, 0.0, 1.560455560684204, 0.3265879154205322, 0.0, 0.08882629871368408, 0.0, 0.0, 0.0, 0.3300185203552246, 0.0, 1.9467215538024902, 0.0, 0.0, 0.0, 0.0, 0.9693056344985962, 0.0, 0.0, 0.0, 0.0, 0.0, 0.0, 0.0, 0.0, 0.0, 0.0, 0.0, 1.5245710611343384, 0.0, 0.0, 0.0, 1.3844035863876343, 0.0, 0.189583420753479, 0.0, 0.0, 0.0, 0.0, 0.0, 0.0, 0.0, 0.0, 0.0, 0.0, 0.0, 0.0, 0.0, 0.0, 0.0, 0.0, 0.0, 0.0, 1.488465666770935, 0.7520217895507812, 0.28225207328796387, 4.285426616668701, 0.0, 0.0, 0.0, 0.0, 0.0, 1.6248767375946045, 0.0, 0.0, 1.6218507289886475, 0.0, 0.0, 0.0, 1.2505699396133423, 0.0, 0.0, 0.15706175565719604, 0.0, 0.0, 0.0, 0.8263105750083923, 0.0, 0.0, 0.0, 0.0, 1.7561426162719727, 0.7816861867904663, 0.0, 0.0, 0.0, 0.0, 0.0, 0.0, 0.0, ...]</td>\n",
       "      <td>[16.0, 20.0, 19.0, 14.0, 19.0, 17.0, 11.0, 15.0, 14.0, 9.0, 15.0, 13.0, 14.0, 21.0, 20.0, 23.0, 31.0, 31.0, 21.0, 30.0, 31.0, 21.0, 31.0, 33.0, 21.0, 32.0, 35.0, 20.0, 33.0, 36.0, 26.0, 42.0, 46.0, 33.0, 51.0, 57.0, 40.0, 58.0, 66.0, 38.0, 56.0, 66.0, 38.0, 55.0, 66.0, 38.0, 55.0, 66.0, 36.0, 50.0, 60.0, 29.0, 43.0, 54.0, 28.0, 42.0, 55.0, 40.0, 53.0, 68.0, 39.0, 52.0, 68.0, 40.0, 51.0, 65.0, 41.0, 51.0, 61.0, 42.0, 50.0, 60.0, 40.0, 49.0, 58.0, 36.0, 45.0, 55.0, 29.0, 38.0, 48.0, 27.0, 33.0, 42.0, 27.0, 32.0, 40.0, 28.0, 34.0, 42.0, 24.0, 31.0, 39.0, 20.0, 27.0, 35.0, 25.0, 33.0, 31.0, 23.0, ...]</td>\n",
       "    </tr>\n",
       "    <tr>\n",
       "      <th>3</th>\n",
       "      <td>39777</td>\n",
       "      <td><img src=\"data:image/png;base64,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\"/></td>\n",
       "      <td>cat</td>\n",
       "      <td>[0.0, 0.0, 0.0, 0.0, 0.0, 0.0, 9.420721054077148, 0.0, 0.0, 0.0, 0.0, 0.0, 1.1560888290405273, 0.0, 0.0, 0.9730717539787292, 0.9644865989685059, 0.0, 0.0, 0.9584730267524719, 0.0, 0.5871124863624573, 0.16170364618301392, 0.4672974944114685, 0.0, 1.2996318340301514, 0.08790266513824463, 1.394680380821228, 0.0, 0.0, 0.027456462383270264, 1.3705134391784668, 0.011530458927154541, 0.0, 0.0, 0.11616528034210205, 0.0, 0.0, 0.638067364692688, 0.047413408756256104, 0.0, 0.0, 0.4486628770828247, 0.0, 0.0, 1.5416345596313477, 0.0, 0.0, 0.0, 0.0, 0.0, 0.0, 0.0, 0.0, 0.0, 0.0, 0.0, 0.0, 0.0, 0.0, 0.28095394372940063, 0.0, 0.0, 2.155299663543701, 0.39325517416000366, 0.0, 2.788682699203491, 0.0, 0.0, 0.0, 0.0, 0.0, 1.227721929550171, 0.0, 0.0, 1.721742868423462, 0.0, 0.0, 0.0, 1.1204105615615845, 0.0, 0.0, 0.0, 0.0, 0.0, 0.0, 0.0, 0.0, 0.0, 0.0, 0.0, 1.8344461917877197, 0.0, 0.0, 0.0, 0.0, 0.0, 0.0, 0.0, 0.0, ...]</td>\n",
       "      <td>[145.0, 166.0, 165.0, 164.0, 185.0, 184.0, 185.0, 206.0, 205.0, 198.0, 218.0, 218.0, 200.0, 221.0, 221.0, 195.0, 220.0, 219.0, 190.0, 219.0, 217.0, 193.0, 216.0, 214.0, 200.0, 214.0, 210.0, 204.0, 214.0, 206.0, 203.0, 213.0, 201.0, 201.0, 214.0, 197.0, 202.0, 212.0, 190.0, 200.0, 206.0, 182.0, 197.0, 204.0, 179.0, 197.0, 203.0, 179.0, 193.0, 200.0, 175.0, 191.0, 197.0, 172.0, 188.0, 195.0, 171.0, 182.0, 193.0, 171.0, 181.0, 191.0, 166.0, 183.0, 188.0, 161.0, 183.0, 187.0, 157.0, 184.0, 190.0, 163.0, 179.0, 189.0, 167.0, 180.0, 191.0, 170.0, 190.0, 201.0, 178.0, 187.0, 200.0, 179.0, 185.0, 201.0, 186.0, 197.0, 217.0, 207.0, 205.0, 228.0, 223.0, 207.0, 233.0, 231.0, 173.0, 197.0, 196.0, 190.0, ...]</td>\n",
       "    </tr>\n",
       "    <tr>\n",
       "      <th>4</th>\n",
       "      <td>41734</td>\n",
       "      <td><img src=\"data:image/png;base64,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\"/></td>\n",
       "      <td>cat</td>\n",
       "      <td>[0.0, 0.0, 0.0, 0.0, 0.0, 0.0, 11.671506881713867, 0.0, 0.0, 0.0, 0.0, 0.0, 1.8207910060882568, 0.0, 0.0, 0.5275697112083435, 0.3617329001426697, 0.0, 0.0, 0.13857227563858032, 0.0, 1.5027629137039185, 0.8006365299224854, 0.0, 0.0, 0.0, 0.0, 0.0372471809387207, 0.0, 0.0, 0.37235450744628906, 0.0, 1.7987191677093506, 0.0, 0.0, 0.0, 0.0, 0.0, 1.8262810707092285, 0.1091805100440979, 0.0, 0.0, 0.7328510880470276, 0.5157899856567383, 0.704115629196167, 1.5793774127960205, 0.0, 0.0, 0.3949059844017029, 0.0, 0.0, 0.0, 0.0, 0.0, 0.0, 0.0, 0.0, 0.0, 0.0, 0.0, 0.0, 0.0, 0.0, 2.8752949237823486, 0.0, 0.3715840280056, 4.020773887634277, 0.0, 0.0, 0.0, 0.0, 0.0, 1.1956623792648315, 0.0, 0.0, 0.0, 0.0, 0.0, 0.0, 0.0, 0.0, 0.0, 0.0, 0.0, 0.0, 0.0, 0.0, 0.0, 0.0, 0.0, 0.0, 0.7315938472747803, 0.0, 0.0, 0.48920249938964844, 0.0, 0.0, 0.0, 0.0, 0.0, ...]</td>\n",
       "      <td>[122.0, 27.0, 34.0, 120.0, 24.0, 31.0, 119.0, 21.0, 29.0, 120.0, 19.0, 28.0, 121.0, 18.0, 28.0, 122.0, 18.0, 28.0, 122.0, 18.0, 28.0, 124.0, 17.0, 26.0, 129.0, 15.0, 23.0, 133.0, 14.0, 20.0, 132.0, 15.0, 21.0, 124.0, 20.0, 24.0, 99.0, 17.0, 20.0, 79.0, 13.0, 16.0, 92.0, 14.0, 17.0, 113.0, 19.0, 23.0, 125.0, 21.0, 28.0, 129.0, 15.0, 24.0, 134.0, 13.0, 22.0, 138.0, 15.0, 23.0, 138.0, 16.0, 22.0, 138.0, 17.0, 22.0, 139.0, 16.0, 23.0, 139.0, 16.0, 24.0, 139.0, 16.0, 23.0, 139.0, 17.0, 23.0, 140.0, 17.0, 24.0, 140.0, 18.0, 23.0, 141.0, 18.0, 23.0, 146.0, 16.0, 23.0, 150.0, 17.0, 25.0, 147.0, 16.0, 25.0, 123.0, 28.0, 32.0, 121.0, ...]</td>\n",
       "    </tr>\n",
       "  </tbody>\n",
       "</table>                          </body>                                                          </html>"
      ],
      "text/plain": [
       "<IPython.core.display.HTML object>"
      ]
     },
     "metadata": {},
     "output_type": "display_data"
    }
   ],
   "source": [
    "get_images_from_id(knn_model.query(cat)).explore()"
   ]
  },
  {
   "cell_type": "code",
   "execution_count": 14,
   "metadata": {},
   "outputs": [
    {
     "data": {
      "text/html": [
       "<html lang=\"en\">                                                     <head>                                                               <style>                                                              .sframe {                                                            font-size: 12px;                                                   font-family: HelveticaNeue;                                        border: 1px solid silver;                                        }                                                                  .sframe thead th {                                                   background: #F7F7F7;                                               font-family: HelveticaNeue-Medium;                                 font-size: 14px;                                                   line-height: 16.8px;                                               padding-top: 16px;                                                 padding-bottom: 16px;                                              padding-left: 10px;                                                padding-right: 38px;                                               border-top: 1px solid #E9E9E9;                                     border-bottom: 1px solid #E9E9E9;                                  white-space: nowrap;                                               overflow: hidden;                                                  text-overflow:ellipsis;                                            text-align:center;                                                 font-weight:normal;                                              }                                                                  .sframe tbody th {                                                   background: #FFFFFF;                                               text-align:left;                                                   font-weight:normal;                                                border-right: 1px solid #E9E9E9;                                 }                                                                  .sframe td {                                                         background: #FFFFFF;                                               padding-left: 10px;                                                padding-right: 38px;                                               padding-top: 14px;                                                 padding-bottom: 14px;                                              border-bottom: 1px solid #E9E9E9;                                  max-height: 0px;                                                   transition: max-height 5s ease-out;                                vertical-align: middle;                                            font-family: HelveticaNeue;                                        font-size: 12px;                                                   line-height: 16.8px;                                               background: #FFFFFF;                                             }                                                                  .sframe tr {                                                         padding-left: 10px;                                                padding-right: 38px;                                               padding-top: 14px;                                                 padding-bottom: 14px;                                              border-bottom: 1px solid #E9E9E9;                                  max-height: 0px;                                                   transition: max-height 5s ease-out;                                vertical-align: middle;                                            font-family: HelveticaNeue;                                        font-size: 12px;                                                   line-height: 16.8px;                                               background: #FFFFFF;                                             }                                                                  .sframe tr:hover {                                                   background: silver;                                              },                                                               </style>                                                         </head>                                                            <body>                                                               <h1>  </h1>                                             <table border=\"1\" class=\"dataframe sframe\">\n",
       "  <thead>\n",
       "    <tr style=\"text-align: right;\">\n",
       "      <th></th>\n",
       "      <th>id</th>\n",
       "      <th>image</th>\n",
       "      <th>label</th>\n",
       "      <th>deep_features</th>\n",
       "      <th>image_array</th>\n",
       "    </tr>\n",
       "  </thead>\n",
       "  <tbody>\n",
       "    <tr>\n",
       "      <th>0</th>\n",
       "      <td>136</td>\n",
       "      <td><img src=\"data:image/png;base64,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\"/></td>\n",
       "      <td>automobile</td>\n",
       "      <td>[0.0, 0.0, 0.0, 0.0, 0.0, 0.0, 7.57378625869751, 0.0, 0.0, 0.0, 0.0, 0.0, 0.0, 0.0, 0.0, 1.4727935791015625, 3.1432433128356934, 0.0, 0.0, 1.446069598197937, 0.0, 0.6140477657318115, 0.8344007730484009, 0.0, 0.0, 0.0, 0.0, 0.0, 0.0, 0.0, 0.0, 0.8630750179290771, 0.0, 0.0, 0.0, 0.0, 0.0, 0.0, 0.0, 0.8941497206687927, 0.0, 0.0, 0.5817651748657227, 0.0, 0.0, 0.0, 0.0, 0.0, 1.9563744068145752, 0.0, 0.0, 2.9371776580810547, 0.0, 0.0, 0.0, 0.1439571976661682, 0.0, 0.0, 0.0, 0.0, 0.0, 0.0, 0.0, 0.1591334342956543, 0.09369146823883057, 0.0, 3.748291254043579, 0.0, 0.0, 0.0, 0.0, 0.0, 1.1665441989898682, 0.0, 0.0, 4.593391418457031, 0.0, 0.0, 0.0, 0.0, 0.0, 0.0, 0.0, 1.641324758529663, 0.016786575317382812, 0.0, 0.0, 0.0, 0.0, 0.0, 0.0, 0.0, 0.8513365983963013, 0.0, 0.0, 0.0, 0.0, 0.0, 0.0, 0.0, ...]</td>\n",
       "      <td>[35.0, 59.0, 53.0, 36.0, 56.0, 56.0, 42.0, 62.0, 64.0, 40.0, 59.0, 63.0, 43.0, 60.0, 65.0, 79.0, 103.0, 89.0, 77.0, 104.0, 74.0, 67.0, 88.0, 65.0, 70.0, 93.0, 73.0, 61.0, 82.0, 69.0, 60.0, 80.0, 70.0, 56.0, 74.0, 74.0, 52.0, 69.0, 73.0, 46.0, 67.0, 63.0, 56.0, 77.0, 64.0, 55.0, 75.0, 63.0, 48.0, 68.0, 57.0, 41.0, 61.0, 57.0, 109.0, 132.0, 137.0, 115.0, 140.0, 140.0, 75.0, 101.0, 93.0, 78.0, 102.0, 94.0, 82.0, 103.0, 100.0, 104.0, 126.0, 133.0, 98.0, 125.0, 121.0, 89.0, 116.0, 103.0, 73.0, 99.0, 86.0, 75.0, 98.0, 101.0, 80.0, 100.0, 111.0, 101.0, 131.0, 143.0, 148.0, 186.0, 196.0, 145.0, 179.0, 185.0, 36.0, 59.0, 52.0, 31.0, ...]</td>\n",
       "    </tr>\n",
       "  </tbody>\n",
       "</table>                          </body>                                                          </html>"
      ],
      "text/plain": [
       "<IPython.core.display.HTML object>"
      ]
     },
     "metadata": {},
     "output_type": "display_data"
    }
   ],
   "source": [
    "car = image_train[8:9]\n",
    "car.explore()"
   ]
  },
  {
   "cell_type": "code",
   "execution_count": 16,
   "metadata": {},
   "outputs": [
    {
     "data": {
      "text/html": [
       "<pre>Starting pairwise querying.</pre>"
      ],
      "text/plain": [
       "Starting pairwise querying."
      ]
     },
     "metadata": {},
     "output_type": "display_data"
    },
    {
     "data": {
      "text/html": [
       "<pre>+--------------+---------+-------------+--------------+</pre>"
      ],
      "text/plain": [
       "+--------------+---------+-------------+--------------+"
      ]
     },
     "metadata": {},
     "output_type": "display_data"
    },
    {
     "data": {
      "text/html": [
       "<pre>| Query points | # Pairs | % Complete. | Elapsed Time |</pre>"
      ],
      "text/plain": [
       "| Query points | # Pairs | % Complete. | Elapsed Time |"
      ]
     },
     "metadata": {},
     "output_type": "display_data"
    },
    {
     "data": {
      "text/html": [
       "<pre>+--------------+---------+-------------+--------------+</pre>"
      ],
      "text/plain": [
       "+--------------+---------+-------------+--------------+"
      ]
     },
     "metadata": {},
     "output_type": "display_data"
    },
    {
     "data": {
      "text/html": [
       "<pre>| 0            | 1       | 0.0498753   | 9.073ms      |</pre>"
      ],
      "text/plain": [
       "| 0            | 1       | 0.0498753   | 9.073ms      |"
      ]
     },
     "metadata": {},
     "output_type": "display_data"
    },
    {
     "data": {
      "text/html": [
       "<pre>| Done         |         | 100         | 236.47ms     |</pre>"
      ],
      "text/plain": [
       "| Done         |         | 100         | 236.47ms     |"
      ]
     },
     "metadata": {},
     "output_type": "display_data"
    },
    {
     "data": {
      "text/html": [
       "<pre>+--------------+---------+-------------+--------------+</pre>"
      ],
      "text/plain": [
       "+--------------+---------+-------------+--------------+"
      ]
     },
     "metadata": {},
     "output_type": "display_data"
    },
    {
     "data": {
      "text/html": [
       "<html lang=\"en\">                                                     <head>                                                               <style>                                                              .sframe {                                                            font-size: 12px;                                                   font-family: HelveticaNeue;                                        border: 1px solid silver;                                        }                                                                  .sframe thead th {                                                   background: #F7F7F7;                                               font-family: HelveticaNeue-Medium;                                 font-size: 14px;                                                   line-height: 16.8px;                                               padding-top: 16px;                                                 padding-bottom: 16px;                                              padding-left: 10px;                                                padding-right: 38px;                                               border-top: 1px solid #E9E9E9;                                     border-bottom: 1px solid #E9E9E9;                                  white-space: nowrap;                                               overflow: hidden;                                                  text-overflow:ellipsis;                                            text-align:center;                                                 font-weight:normal;                                              }                                                                  .sframe tbody th {                                                   background: #FFFFFF;                                               text-align:left;                                                   font-weight:normal;                                                border-right: 1px solid #E9E9E9;                                 }                                                                  .sframe td {                                                         background: #FFFFFF;                                               padding-left: 10px;                                                padding-right: 38px;                                               padding-top: 14px;                                                 padding-bottom: 14px;                                              border-bottom: 1px solid #E9E9E9;                                  max-height: 0px;                                                   transition: max-height 5s ease-out;                                vertical-align: middle;                                            font-family: HelveticaNeue;                                        font-size: 12px;                                                   line-height: 16.8px;                                               background: #FFFFFF;                                             }                                                                  .sframe tr {                                                         padding-left: 10px;                                                padding-right: 38px;                                               padding-top: 14px;                                                 padding-bottom: 14px;                                              border-bottom: 1px solid #E9E9E9;                                  max-height: 0px;                                                   transition: max-height 5s ease-out;                                vertical-align: middle;                                            font-family: HelveticaNeue;                                        font-size: 12px;                                                   line-height: 16.8px;                                               background: #FFFFFF;                                             }                                                                  .sframe tr:hover {                                                   background: silver;                                              },                                                               </style>                                                         </head>                                                            <body>                                                               <h1>  </h1>                                             <table border=\"1\" class=\"dataframe sframe\">\n",
       "  <thead>\n",
       "    <tr style=\"text-align: right;\">\n",
       "      <th></th>\n",
       "      <th>id</th>\n",
       "      <th>image</th>\n",
       "      <th>label</th>\n",
       "      <th>deep_features</th>\n",
       "      <th>image_array</th>\n",
       "    </tr>\n",
       "  </thead>\n",
       "  <tbody>\n",
       "    <tr>\n",
       "      <th>0</th>\n",
       "      <td>136</td>\n",
       "      <td><img src=\"data:image/png;base64,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\"/></td>\n",
       "      <td>automobile</td>\n",
       "      <td>[0.0, 0.0, 0.0, 0.0, 0.0, 0.0, 7.57378625869751, 0.0, 0.0, 0.0, 0.0, 0.0, 0.0, 0.0, 0.0, 1.4727935791015625, 3.1432433128356934, 0.0, 0.0, 1.446069598197937, 0.0, 0.6140477657318115, 0.8344007730484009, 0.0, 0.0, 0.0, 0.0, 0.0, 0.0, 0.0, 0.0, 0.8630750179290771, 0.0, 0.0, 0.0, 0.0, 0.0, 0.0, 0.0, 0.8941497206687927, 0.0, 0.0, 0.5817651748657227, 0.0, 0.0, 0.0, 0.0, 0.0, 1.9563744068145752, 0.0, 0.0, 2.9371776580810547, 0.0, 0.0, 0.0, 0.1439571976661682, 0.0, 0.0, 0.0, 0.0, 0.0, 0.0, 0.0, 0.1591334342956543, 0.09369146823883057, 0.0, 3.748291254043579, 0.0, 0.0, 0.0, 0.0, 0.0, 1.1665441989898682, 0.0, 0.0, 4.593391418457031, 0.0, 0.0, 0.0, 0.0, 0.0, 0.0, 0.0, 1.641324758529663, 0.016786575317382812, 0.0, 0.0, 0.0, 0.0, 0.0, 0.0, 0.0, 0.8513365983963013, 0.0, 0.0, 0.0, 0.0, 0.0, 0.0, 0.0, ...]</td>\n",
       "      <td>[35.0, 59.0, 53.0, 36.0, 56.0, 56.0, 42.0, 62.0, 64.0, 40.0, 59.0, 63.0, 43.0, 60.0, 65.0, 79.0, 103.0, 89.0, 77.0, 104.0, 74.0, 67.0, 88.0, 65.0, 70.0, 93.0, 73.0, 61.0, 82.0, 69.0, 60.0, 80.0, 70.0, 56.0, 74.0, 74.0, 52.0, 69.0, 73.0, 46.0, 67.0, 63.0, 56.0, 77.0, 64.0, 55.0, 75.0, 63.0, 48.0, 68.0, 57.0, 41.0, 61.0, 57.0, 109.0, 132.0, 137.0, 115.0, 140.0, 140.0, 75.0, 101.0, 93.0, 78.0, 102.0, 94.0, 82.0, 103.0, 100.0, 104.0, 126.0, 133.0, 98.0, 125.0, 121.0, 89.0, 116.0, 103.0, 73.0, 99.0, 86.0, 75.0, 98.0, 101.0, 80.0, 100.0, 111.0, 101.0, 131.0, 143.0, 148.0, 186.0, 196.0, 145.0, 179.0, 185.0, 36.0, 59.0, 52.0, 31.0, ...]</td>\n",
       "    </tr>\n",
       "    <tr>\n",
       "      <th>1</th>\n",
       "      <td>8977</td>\n",
       "      <td><img src=\"data:image/png;base64,iVBORw0KGgoAAAANSUhEUgAAACAAAAAgCAIAAAD8GO2jAAAJl0lEQVR4nAXBaZNc1XkA4HPes9y99+7R9KwaBBqERoJgKjEOAZeLUMSu8q/w3/LHVD7kS6ooLxRJ2OwAwVKJ0a4ZjaZn6327fZez+3nw59/8nzYOKJNymQRxQLjFpNDaWQRAGAJOceB71mFMrNRGO4cJLZXF1lV9iq3SBkaFUspgoyRGoKG01oAjzlGM6H/85+8BSLPVOe2d/uuvfr2/e9NqjZ0FIMghi+2qEIUsOGfW2sICdpZRhwFCzGRpcq2swYBQevHqwfdfvfX+B521PVWWZZ7mShIg9Nu//KlRr1XC6mScb23eXO/uEWuAYIJBauEAFbKUsnBIjYeT7u5bZpXGKBvOxpT56xt7GlPsHGHu5MmPP339eXNjs9nezrPJ4YOvX52eMj+gncZ64HGu0Ru1xKWz4eCcM9rrna2vd6uVulYCML06uzh68RMl7s7ttwMa3Pvii5ez8ZKQf/mo0mmsayufPnl4dfGyHoVlIUqjjk8e/e27Py9WS+kQ5XxTI0SpTjyoBdF0MJnOJ0dPD+9L0924fmOndfTqDPM4wPDm9a3Fi0ekWj3vna/f2PzFrX3fJ+0IzkfTvJTxtRsP/v+ROX4ZbXaHgyNrJHEiDAKqLJNGszjOKDs5H17ee1wU892NRq1V6a7Vdre6g8lEOHZz5/a1RmN80TcOu7izSEmCQzUfn47GuSPVoL2qY9bdnuXqxeHzVmXtg/d+07t8djTq0b29TWM1IST0AiNKbMWN7c0PP3z/rdu3Nrf2OEbXb909H05Vlhtp4rUNg9z2nbcvz88/++8vwyi8nMyAJZs7+xZwc2MrlwjROGmv1XziiHtxdkIHly+Q0xiIxezs5XG31dzZe+eHB/e/+u7b2/sHd24dfPHNVyfn57Px3DpLgR/s3zWRV66GR08eVpvX+rNJrbkWtzaz1cJIVWbFeHRlqbzeilaL5Y3uNr08O2QUIUSkdZ7HG60kN+kPj/4K4KaTcy3KZTYPEjZbWD8moLHPyDSXnbhd7+5ClrWF5Ix5FOGAn6TzfDrZsSZ2kpvGetiYLZa0vqkDi3zGZRRwlIDRg/HAWRkGUUS9JIyb62vL3gnzGKEUG/z0+Nhg7rVbN9Z25MvnG4w7JS5nA6g1RSFNtnxtfatLWCIM5l6jtUv9JN6d2msDXforHPnjYprN0i7mIJFHrdWryNH8tJingnvas7RQS0LgbDlkjYbonbJnj3ei0N3dt//0oTBFPp/mo6EE8CuBnY/XlaJgyK4M3p1rzRGRvGTBfGnLJH6YTwTRFdDVVvs0jJLZtLKcJcK2WBwSjyaRjV3WaCxaTeZko1x99uc/HR/3Oj64MkV9Ic2SU09KRUOfTib94at5nflQSeNOsxM3PBdvcX66kJUfTtreJH7co6tp4HhSb9FWNaeItVomiVS1WlY6Kp0Oe73Xp/P+KhcYPT15UpZy2mje+dl7kR/j3/7u3YNz3f7maTUTgcOIkRoLK7WG124bljAWUoL1PMWIQBhQHljfNxEzBFsemshTFBdnV+X5KyaKdJX1CTmX4rti0rfq9Xr1k90dKpQq1yqDTmIGuFVKro1Wy2W+ZFc9VmvQtR3eXavsrpclWogUdMbykghCEEYkd5VEV4LIp8/EYrRcxJi/39zlS/Nu2LpvVg+W4/sPHlJZ5j/hMrpR2W40yYt+tFwYQB5CPrJ8NkGLTF9dqvVdv7nZctHK09ZKNE/NQjhtKGc8CWXI0swUcSvZ6s6iWvykd3OUvtltfdDe/p+yTxllM5VPAlzststlcXuVOasxwgacxtg5IRf9XOaNMvPCZsAoZkx7gY6RHk3EdEAvjGbeth/u8djTYR5687W4HA7aTHsJUq+9RrWQrhROuM5mu9/N7dloXxOmFFhXgNMWVxEqZDoaniTxMvIC5tcxj0JkXS3OfEgnE1bMa8VcLkZ5vy+ur0OnMvLR+eH9Hzcr35ttqq3BhDidpYuzCdI/MDWI2M9yuFY44xxFSBH6I4ELYw6K9B/yeRsGtNYM/CqwkEad/lpr8uLhwWIuDM/LUh+t8qxdJOz5yj1O06Onj2lZSuM0ovhs2lthR16P7yk5G7oPLN+QSmF7j8C/S5kGbPpGC6bLfz65kumU0yhKKlcHB3+4FrkR2s4ZMdZYYYwTWTneuTbwnFcO2g1HARHmEPE9yyFgkjDQBX9u8BWWH6X0QMMDbfqA7lzfIJ3maaezWeK4f2l0JqfZvTPfv/NJFDZGzERJvMDoshpc1WvDaqBUwIQfVih1FiuFKGNa6DwTURRrXUJEliT40pcj4R1PS2RwkoQG8+juexeOd/pXCqMB4CuL6NnIruTZ3tYyrDxB4sIWwhR+ZrsU3/3Hj9PlSypKo5V1VmmtkEKGqIA54IZVkqLOv5sWK4n43AV+UK02kmZnsNYyQZTkmSKAFunx55/fevudJ9davckst8hJ0giDqFEDsIdodTGaUOew1s4ZEzAecl+oAgXAw0AJYSziNR4iyMHxasw99u3//rEe8rQS7+er2LpdRur1pEz86Vw2LYozYzqtaruhtD49fvHs5HFcCyixpOb7zjjucOAx47GS6JUolJUeYdw661l/K4BIv3nzxo8//U00k0UAr9XrzUKL4ZDaqh2MGi4gQs55jEhcZOL4yaOj0yPHVWYcxRiAgEMOY3AEWYTAoYofeIQigGxVBIxSQi6Gr6qNTz/9+JPzV8cP7eDw5huf3n4HTo4KlsSb+yZNZ6JcrGajs1dX/ZN0NeEReLFPfUwNuNJph6wBagAZZ7BDHuUeZcooziglVCO7KNPvD//60d1fZv3R1TT/r/Hz5xoq1XixnIjDv4zHw8VyIdOlMQUJXdjmUYWEiW+wwj//t5vKmjzLAAAYweCQMZxzwrA0osxLwGABW2u5YxvR1unLi2dHfWMswogANtohhBBGgBDmiEU0qNGgQgl13KOEAbVGW2MwRgiwQVYXAhwWUkeJZ5BFFBwCZK1PGRKuN+oVXtncCa00FiMFSJfaKgcEY+0QuLjhJ3VOPOQsxg55wGghBWcs8D1MKSaQGeu0ZYRYg7VBWhmfc8AISRuC70IEvvPqeLUqrEA+RrpKtXJGW4QRAxQl3AsoZYAxcdpyxqh2BilHACktjTHWWaOMMxRTAEQocIKAAHFgEQaOcMKC1AmMjMGIcupTVpiCEEt97pwBiimnjBFnHQZKgFCltKPAPF8XuTGGc1YWpbPOh5BRai21xmBAwMEBsdoCAh/xxI8ENcCoVibwOPeItk4Ia4wVpUCIIQxWW43t3wFggcALvKJ5dAAAAABJRU5ErkJggg==\"/></td>\n",
       "      <td>automobile</td>\n",
       "      <td>[0.0, 0.0, 0.0, 0.1361560821533203, 0.0, 0.0, 6.814979553222656, 0.0, 0.0, 0.0, 0.0, 0.0, 0.43722760677337646, 0.0, 0.5315119028091431, 0.36427992582321167, 0.6908599138259888, 0.0, 0.0, 1.770264983177185, 0.0, 0.0800466537475586, 0.09451496601104736, 0.0, 0.0, 0.0, 0.0, 0.0, 0.0, 0.0, 0.0, 0.0, 0.0, 0.0, 0.0, 0.0, 0.0, 0.0, 0.0, 0.42600566148757935, 0.0, 0.0, 1.4244740009307861, 0.0, 0.0, 0.0, 0.0, 0.0, 2.709169387817383, 0.0, 0.0, 3.002518653869629, 0.0, 0.7693667411804199, 0.0, 0.9912864565849304, 0.0, 0.0, 0.0, 0.0, 0.0, 0.0, 0.0, 0.0, 0.020935535430908203, 0.0, 2.8974344730377197, 0.0, 0.0, 0.0, 0.0, 0.0, 0.03230935335159302, 0.0, 0.0, 3.2637791633605957, 0.0, 0.0, 0.0, 0.0, 0.0, 0.0, 0.0, 0.9890598654747009, 0.0, 0.0, 0.0, 0.0, 0.0, 0.0, 0.0, 0.0, 0.19713282585144043, 0.19438600540161133, 0.0, 0.0, 0.0, 0.0, 0.0, 0.0, ...]</td>\n",
       "      <td>[186.0, 195.0, 199.0, 182.0, 192.0, 198.0, 184.0, 196.0, 203.0, 178.0, 190.0, 189.0, 191.0, 199.0, 201.0, 200.0, 202.0, 207.0, 198.0, 203.0, 210.0, 189.0, 199.0, 206.0, 188.0, 197.0, 206.0, 190.0, 199.0, 209.0, 195.0, 199.0, 211.0, 201.0, 203.0, 212.0, 210.0, 211.0, 219.0, 208.0, 210.0, 220.0, 209.0, 213.0, 218.0, 203.0, 209.0, 215.0, 199.0, 208.0, 214.0, 200.0, 211.0, 218.0, 192.0, 206.0, 216.0, 193.0, 204.0, 215.0, 208.0, 212.0, 219.0, 209.0, 210.0, 214.0, 205.0, 207.0, 216.0, 184.0, 198.0, 211.0, 179.0, 193.0, 208.0, 180.0, 190.0, 203.0, 174.0, 191.0, 203.0, 176.0, 187.0, 205.0, 168.0, 185.0, 203.0, 165.0, 187.0, 202.0, 168.0, 186.0, 201.0, 172.0, 187.0, 201.0, 98.0, 111.0, 101.0, 100.0, ...]</td>\n",
       "    </tr>\n",
       "    <tr>\n",
       "      <th>2</th>\n",
       "      <td>24146</td>\n",
       "      <td><img src=\"data:image/png;base64,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\"/></td>\n",
       "      <td>automobile</td>\n",
       "      <td>[0.0, 0.0, 0.0, 0.0, 0.0, 0.0, 9.216635704040527, 0.0, 0.0, 0.0, 0.0, 0.0, 0.2919350862503052, 0.0, 0.0, 0.25897639989852905, 2.5225658416748047, 0.0, 0.0, 0.2576272487640381, 0.0, 0.291958749294281, 0.0, 0.0, 0.0, 0.0, 0.0, 0.0, 0.0, 0.0, 0.0, 0.0, 0.0, 0.0, 0.0, 0.0, 0.0, 0.0, 0.0, 3.692221164703369, 0.0, 0.0, 1.4501246213912964, 0.0, 0.0, 0.47208452224731445, 0.0, 0.0, 3.454415798187256, 0.0, 0.0, 2.528709650039673, 0.0, 0.0, 0.0, 0.0, 0.0, 0.0, 0.0, 0.0, 0.0, 0.0, 0.0, 0.12776196002960205, 0.0, 0.0, 1.3999775648117065, 0.0, 0.0, 0.0, 0.0, 0.0, 0.4191403388977051, 0.26016396284103394, 0.0, 3.7897422313690186, 0.0, 0.0, 0.0, 1.5608348846435547, 0.0, 0.0, 0.0, 0.9829225540161133, 0.20505398511886597, 0.0, 0.0, 0.0, 0.0, 0.0, 0.0, 0.0, 0.597538411617279, 0.0, 0.0, 0.0, 0.0, 0.0, 0.0, 0.0, ...]</td>\n",
       "      <td>[229.0, 231.0, 227.0, 232.0, 235.0, 231.0, 231.0, 235.0, 230.0, 233.0, 237.0, 231.0, 232.0, 236.0, 227.0, 233.0, 236.0, 229.0, 235.0, 236.0, 237.0, 234.0, 235.0, 239.0, 234.0, 236.0, 237.0, 236.0, 236.0, 235.0, 236.0, 235.0, 236.0, 232.0, 238.0, 232.0, 171.0, 173.0, 165.0, 148.0, 144.0, 139.0, 129.0, 136.0, 130.0, 113.0, 117.0, 107.0, 119.0, 117.0, 100.0, 89.0, 85.0, 64.0, 79.0, 79.0, 62.0, 67.0, 72.0, 66.0, 55.0, 62.0, 62.0, 61.0, 61.0, 57.0, 75.0, 71.0, 59.0, 145.0, 140.0, 121.0, 112.0, 109.0, 92.0, 86.0, 86.0, 75.0, 89.0, 88.0, 73.0, 75.0, 72.0, 66.0, 128.0, 125.0, 122.0, 135.0, 133.0, 118.0, 117.0, 116.0, 96.0, 80.0, 81.0, 63.0, 227.0, 231.0, 231.0, 226.0, ...]</td>\n",
       "    </tr>\n",
       "    <tr>\n",
       "      <th>3</th>\n",
       "      <td>33261</td>\n",
       "      <td><img src=\"data:image/png;base64,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\"/></td>\n",
       "      <td>automobile</td>\n",
       "      <td>[0.0, 0.0, 0.0, 0.0, 0.0, 0.15714794397354126, 6.903954029083252, 0.0, 0.0, 0.0, 1.2512141466140747, 0.0, 0.23757553100585938, 0.0, 0.0, 2.0138742923736572, 0.7727982401847839, 0.0, 0.0, 2.7291064262390137, 0.0, 1.8067152500152588, 0.0, 0.0, 0.0, 0.0, 0.0, 0.0, 0.0, 0.0, 0.0, 0.0, 0.0, 0.0, 0.0, 0.0, 0.0, 0.0, 0.0, 0.0, 0.0, 0.0, 1.7123446464538574, 0.0, 0.0, 0.0, 0.0, 0.0, 0.9009832143783569, 0.0, 0.0, 2.8179099559783936, 0.0, 0.5805134773254395, 0.0, 0.6455984115600586, 0.0, 0.0, 0.0, 0.0, 0.36140555143356323, 0.0, 0.0, 0.0, 0.0, 0.0, 2.085724115371704, 0.0, 0.0, 0.0, 0.0, 0.0, 1.2765185832977295, 0.0, 0.0, 3.2795345783233643, 0.18032222986221313, 0.0, 0.0, 0.7250593900680542, 0.0, 0.0, 0.0, 0.8259289264678955, 1.3446004390716553, 0.0, 0.3288379907608032, 0.0, 0.0, 0.0, 0.0, 0.0, 1.312856912612915, 0.0, 0.0, 0.0, 0.0, 0.0, 0.0, 0.0, ...]</td>\n",
       "      <td>[110.0, 118.0, 104.0, 98.0, 104.0, 80.0, 92.0, 100.0, 68.0, 95.0, 110.0, 60.0, 112.0, 120.0, 99.0, 114.0, 116.0, 104.0, 107.0, 104.0, 68.0, 122.0, 118.0, 69.0, 122.0, 123.0, 78.0, 116.0, 121.0, 86.0, 108.0, 113.0, 97.0, 145.0, 147.0, 146.0, 148.0, 156.0, 157.0, 132.0, 142.0, 145.0, 130.0, 141.0, 142.0, 100.0, 116.0, 114.0, 82.0, 94.0, 94.0, 100.0, 108.0, 110.0, 94.0, 104.0, 104.0, 98.0, 109.0, 115.0, 164.0, 172.0, 181.0, 230.0, 232.0, 234.0, 240.0, 240.0, 238.0, 240.0, 240.0, 239.0, 240.0, 240.0, 240.0, 240.0, 239.0, 239.0, 233.0, 234.0, 235.0, 191.0, 203.0, 204.0, 153.0, 173.0, 156.0, 155.0, 177.0, 165.0, 152.0, 177.0, 178.0, 121.0, 159.0, 157.0, 129.0, 134.0, 137.0, 115.0, ...]</td>\n",
       "    </tr>\n",
       "    <tr>\n",
       "      <th>4</th>\n",
       "      <td>44395</td>\n",
       "      <td><img src=\"data:image/png;base64,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\"/></td>\n",
       "      <td>automobile</td>\n",
       "      <td>[0.0, 0.0, 0.0, 1.3475843667984009, 0.0, 0.0, 7.3839430809021, 0.0, 0.0, 0.0, 0.0, 0.0, 0.860270619392395, 0.0, 0.9944362044334412, 0.7280287742614746, 1.0034836530685425, 0.81745445728302, 0.0, 2.3302979469299316, 0.0, 0.331581175327301, 0.0, 0.0, 0.0, 0.0, 0.0, 0.0, 0.0, 0.0, 0.0, 1.8568319082260132, 0.9707522988319397, 0.0, 0.0, 0.0, 0.0, 0.0, 1.3231627941131592, 1.126640796661377, 0.0, 0.0, 1.3388854265213013, 0.0, 0.0, 0.0, 0.0, 0.0, 1.625465750694275, 0.0, 0.0, 1.7373878955841064, 0.0, 0.0, 0.0, 1.308254599571228, 0.5843831300735474, 0.0, 0.0, 0.0, 0.0, 0.0, 0.0, 0.9273734092712402, 0.8504456877708435, 0.040924251079559326, 3.095167398452759, 0.0, 0.0, 0.0, 0.0, 0.0, 1.736297607421875, 0.2721197009086609, 0.0, 3.8994064331054688, 0.0, 0.0, 0.0, 0.45914721488952637, 0.0, 0.0, 0.0, 1.1545934677124023, 0.0, 0.0, 0.26629769802093506, 0.0, 0.0, 0.0, 0.0, 0.0, 0.0, 0.17958825826644897, 0.0, 0.0, 0.0, 0.0, 0.0, 0.0, ...]</td>\n",
       "      <td>[89.0, 95.0, 50.0, 83.0, 84.0, 43.0, 69.0, 70.0, 42.0, 64.0, 69.0, 39.0, 55.0, 63.0, 29.0, 64.0, 72.0, 36.0, 66.0, 75.0, 36.0, 72.0, 81.0, 38.0, 85.0, 93.0, 49.0, 84.0, 86.0, 43.0, 95.0, 92.0, 50.0, 88.0, 85.0, 40.0, 91.0, 92.0, 44.0, 81.0, 87.0, 44.0, 75.0, 85.0, 45.0, 83.0, 95.0, 55.0, 75.0, 84.0, 39.0, 76.0, 84.0, 34.0, 91.0, 98.0, 48.0, 97.0, 96.0, 53.0, 100.0, 90.0, 48.0, 108.0, 96.0, 51.0, 69.0, 75.0, 34.0, 78.0, 88.0, 46.0, 87.0, 90.0, 43.0, 89.0, 93.0, 44.0, 80.0, 88.0, 41.0, 77.0, 87.0, 47.0, 56.0, 63.0, 38.0, 28.0, 33.0, 19.0, 25.0, 28.0, 20.0, 11.0, 14.0, 6.0, 81.0, 81.0, 48.0, 74.0, ...]</td>\n",
       "    </tr>\n",
       "  </tbody>\n",
       "</table>                          </body>                                                          </html>"
      ],
      "text/plain": [
       "<IPython.core.display.HTML object>"
      ]
     },
     "metadata": {},
     "output_type": "display_data"
    }
   ],
   "source": [
    "get_images_from_id(knn_model.query(car)).explore()"
   ]
  },
  {
   "cell_type": "markdown",
   "metadata": {},
   "source": [
    "### funny lambda"
   ]
  },
  {
   "cell_type": "code",
   "execution_count": 23,
   "metadata": {},
   "outputs": [],
   "source": [
    "show_neighbors= lambda i: get_images_from_id(knn_model.query(image_train[i:i+1]))['image'].explore()"
   ]
  },
  {
   "cell_type": "code",
   "execution_count": 24,
   "metadata": {},
   "outputs": [
    {
     "data": {
      "text/html": [
       "<pre>Starting pairwise querying.</pre>"
      ],
      "text/plain": [
       "Starting pairwise querying."
      ]
     },
     "metadata": {},
     "output_type": "display_data"
    },
    {
     "data": {
      "text/html": [
       "<pre>+--------------+---------+-------------+--------------+</pre>"
      ],
      "text/plain": [
       "+--------------+---------+-------------+--------------+"
      ]
     },
     "metadata": {},
     "output_type": "display_data"
    },
    {
     "data": {
      "text/html": [
       "<pre>| Query points | # Pairs | % Complete. | Elapsed Time |</pre>"
      ],
      "text/plain": [
       "| Query points | # Pairs | % Complete. | Elapsed Time |"
      ]
     },
     "metadata": {},
     "output_type": "display_data"
    },
    {
     "data": {
      "text/html": [
       "<pre>+--------------+---------+-------------+--------------+</pre>"
      ],
      "text/plain": [
       "+--------------+---------+-------------+--------------+"
      ]
     },
     "metadata": {},
     "output_type": "display_data"
    },
    {
     "data": {
      "text/html": [
       "<pre>| 0            | 1       | 0.0498753   | 12.738ms     |</pre>"
      ],
      "text/plain": [
       "| 0            | 1       | 0.0498753   | 12.738ms     |"
      ]
     },
     "metadata": {},
     "output_type": "display_data"
    },
    {
     "data": {
      "text/html": [
       "<pre>| Done         |         | 100         | 208.402ms    |</pre>"
      ],
      "text/plain": [
       "| Done         |         | 100         | 208.402ms    |"
      ]
     },
     "metadata": {},
     "output_type": "display_data"
    },
    {
     "data": {
      "text/html": [
       "<pre>+--------------+---------+-------------+--------------+</pre>"
      ],
      "text/plain": [
       "+--------------+---------+-------------+--------------+"
      ]
     },
     "metadata": {},
     "output_type": "display_data"
    },
    {
     "data": {
      "text/html": [
       "<html lang=\"en\">                                                     <head>                                                               <style>                                                              .sframe {                                                            font-size: 12px;                                                   font-family: HelveticaNeue;                                        border: 1px solid silver;                                        }                                                                  .sframe thead th {                                                   background: #F7F7F7;                                               font-family: HelveticaNeue-Medium;                                 font-size: 14px;                                                   line-height: 16.8px;                                               padding-top: 16px;                                                 padding-bottom: 16px;                                              padding-left: 10px;                                                padding-right: 38px;                                               border-top: 1px solid #E9E9E9;                                     border-bottom: 1px solid #E9E9E9;                                  white-space: nowrap;                                               overflow: hidden;                                                  text-overflow:ellipsis;                                            text-align:center;                                                 font-weight:normal;                                              }                                                                  .sframe tbody th {                                                   background: #FFFFFF;                                               text-align:left;                                                   font-weight:normal;                                                border-right: 1px solid #E9E9E9;                                 }                                                                  .sframe td {                                                         background: #FFFFFF;                                               padding-left: 10px;                                                padding-right: 38px;                                               padding-top: 14px;                                                 padding-bottom: 14px;                                              border-bottom: 1px solid #E9E9E9;                                  max-height: 0px;                                                   transition: max-height 5s ease-out;                                vertical-align: middle;                                            font-family: HelveticaNeue;                                        font-size: 12px;                                                   line-height: 16.8px;                                               background: #FFFFFF;                                             }                                                                  .sframe tr {                                                         padding-left: 10px;                                                padding-right: 38px;                                               padding-top: 14px;                                                 padding-bottom: 14px;                                              border-bottom: 1px solid #E9E9E9;                                  max-height: 0px;                                                   transition: max-height 5s ease-out;                                vertical-align: middle;                                            font-family: HelveticaNeue;                                        font-size: 12px;                                                   line-height: 16.8px;                                               background: #FFFFFF;                                             }                                                                  .sframe tr:hover {                                                   background: silver;                                              },                                                               </style>                                                         </head>                                                            <body>                                                               <h1>  </h1>                                             <table border=\"1\" class=\"dataframe sframe\">\n",
       "  <thead>\n",
       "    <tr style=\"text-align: right;\">\n",
       "      <th></th>\n",
       "      <th>SArray</th>\n",
       "    </tr>\n",
       "  </thead>\n",
       "  <tbody>\n",
       "    <tr>\n",
       "      <th>0</th>\n",
       "      <td><img src=\"data:image/png;base64,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\"/></td>\n",
       "    </tr>\n",
       "    <tr>\n",
       "      <th>1</th>\n",
       "      <td><img src=\"data:image/png;base64,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\"/></td>\n",
       "    </tr>\n",
       "    <tr>\n",
       "      <th>2</th>\n",
       "      <td><img src=\"data:image/png;base64,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\"/></td>\n",
       "    </tr>\n",
       "    <tr>\n",
       "      <th>3</th>\n",
       "      <td><img src=\"data:image/png;base64,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\"/></td>\n",
       "    </tr>\n",
       "    <tr>\n",
       "      <th>4</th>\n",
       "      <td><img src=\"data:image/png;base64,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\"/></td>\n",
       "    </tr>\n",
       "  </tbody>\n",
       "</table>                          </body>                                                          </html>"
      ],
      "text/plain": [
       "<IPython.core.display.HTML object>"
      ]
     },
     "metadata": {},
     "output_type": "display_data"
    }
   ],
   "source": [
    "show_neighbors(8)"
   ]
  },
  {
   "cell_type": "code",
   "execution_count": 26,
   "metadata": {},
   "outputs": [
    {
     "data": {
      "text/html": [
       "<pre>Starting pairwise querying.</pre>"
      ],
      "text/plain": [
       "Starting pairwise querying."
      ]
     },
     "metadata": {},
     "output_type": "display_data"
    },
    {
     "data": {
      "text/html": [
       "<pre>+--------------+---------+-------------+--------------+</pre>"
      ],
      "text/plain": [
       "+--------------+---------+-------------+--------------+"
      ]
     },
     "metadata": {},
     "output_type": "display_data"
    },
    {
     "data": {
      "text/html": [
       "<pre>| Query points | # Pairs | % Complete. | Elapsed Time |</pre>"
      ],
      "text/plain": [
       "| Query points | # Pairs | % Complete. | Elapsed Time |"
      ]
     },
     "metadata": {},
     "output_type": "display_data"
    },
    {
     "data": {
      "text/html": [
       "<pre>+--------------+---------+-------------+--------------+</pre>"
      ],
      "text/plain": [
       "+--------------+---------+-------------+--------------+"
      ]
     },
     "metadata": {},
     "output_type": "display_data"
    },
    {
     "data": {
      "text/html": [
       "<pre>| 0            | 1       | 0.0498753   | 14.804ms     |</pre>"
      ],
      "text/plain": [
       "| 0            | 1       | 0.0498753   | 14.804ms     |"
      ]
     },
     "metadata": {},
     "output_type": "display_data"
    },
    {
     "data": {
      "text/html": [
       "<pre>| Done         |         | 100         | 225.344ms    |</pre>"
      ],
      "text/plain": [
       "| Done         |         | 100         | 225.344ms    |"
      ]
     },
     "metadata": {},
     "output_type": "display_data"
    },
    {
     "data": {
      "text/html": [
       "<pre>+--------------+---------+-------------+--------------+</pre>"
      ],
      "text/plain": [
       "+--------------+---------+-------------+--------------+"
      ]
     },
     "metadata": {},
     "output_type": "display_data"
    },
    {
     "data": {
      "text/html": [
       "<html lang=\"en\">                                                     <head>                                                               <style>                                                              .sframe {                                                            font-size: 12px;                                                   font-family: HelveticaNeue;                                        border: 1px solid silver;                                        }                                                                  .sframe thead th {                                                   background: #F7F7F7;                                               font-family: HelveticaNeue-Medium;                                 font-size: 14px;                                                   line-height: 16.8px;                                               padding-top: 16px;                                                 padding-bottom: 16px;                                              padding-left: 10px;                                                padding-right: 38px;                                               border-top: 1px solid #E9E9E9;                                     border-bottom: 1px solid #E9E9E9;                                  white-space: nowrap;                                               overflow: hidden;                                                  text-overflow:ellipsis;                                            text-align:center;                                                 font-weight:normal;                                              }                                                                  .sframe tbody th {                                                   background: #FFFFFF;                                               text-align:left;                                                   font-weight:normal;                                                border-right: 1px solid #E9E9E9;                                 }                                                                  .sframe td {                                                         background: #FFFFFF;                                               padding-left: 10px;                                                padding-right: 38px;                                               padding-top: 14px;                                                 padding-bottom: 14px;                                              border-bottom: 1px solid #E9E9E9;                                  max-height: 0px;                                                   transition: max-height 5s ease-out;                                vertical-align: middle;                                            font-family: HelveticaNeue;                                        font-size: 12px;                                                   line-height: 16.8px;                                               background: #FFFFFF;                                             }                                                                  .sframe tr {                                                         padding-left: 10px;                                                padding-right: 38px;                                               padding-top: 14px;                                                 padding-bottom: 14px;                                              border-bottom: 1px solid #E9E9E9;                                  max-height: 0px;                                                   transition: max-height 5s ease-out;                                vertical-align: middle;                                            font-family: HelveticaNeue;                                        font-size: 12px;                                                   line-height: 16.8px;                                               background: #FFFFFF;                                             }                                                                  .sframe tr:hover {                                                   background: silver;                                              },                                                               </style>                                                         </head>                                                            <body>                                                               <h1>  </h1>                                             <table border=\"1\" class=\"dataframe sframe\">\n",
       "  <thead>\n",
       "    <tr style=\"text-align: right;\">\n",
       "      <th></th>\n",
       "      <th>SArray</th>\n",
       "    </tr>\n",
       "  </thead>\n",
       "  <tbody>\n",
       "    <tr>\n",
       "      <th>0</th>\n",
       "      <td><img src=\"data:image/png;base64,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\"/></td>\n",
       "    </tr>\n",
       "    <tr>\n",
       "      <th>1</th>\n",
       "      <td><img src=\"data:image/png;base64,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\"/></td>\n",
       "    </tr>\n",
       "    <tr>\n",
       "      <th>2</th>\n",
       "      <td><img src=\"data:image/png;base64,iVBORw0KGgoAAAANSUhEUgAAACAAAAAgCAIAAAD8GO2jAAAIv0lEQVR4nE1TS3Oc1RHtvq/vNU/NjGRb2MZ2sA1OIEBBAiGbLFKV/Nksss0ilQqVpCpUMGCDnyCNJc1opBl9j/m+++4sZEjOouvWWXSfPqcvEtHz74///cU3nHMiN3/1w7fffn16dpZkPedcVVXr9XkgnyQqzTIA2J3NLjYX/X5/PB4zIHA2TdPtdrtYLjbVxgff7/ezNA2BulYbY0TZdGXdVNsmz9JtfTGfz6uqCiFwzp1zzrkkSdrWBRcaUyVJgoBaayKaTCZS8KqpXQxVXRnnXCTrgi9rHyGRinOepqk4OFwczI9OTk/2prMfvv9huVx2Xdd1nbErlSQxRiCQXECMzljb6cdVGYj6/f5qtSqK3HirGGx1V7VNqw0BEbJNVUlkjIBzLuavlseL5VZ3R8dH8/l82zRaa++9bk0syxhj8D4a7b1DwBCD9s5DVEqWZWmt9tHZtSnLsuu6AIwLEQi11uh9oRQyJv7xr38ih23bPJ+/KtdrITBEAoAQnHOOIQOISklvjVAqGq+k4ghCSO/8oiqFYM77qm76g+FwNPXeF0X27ePHtmtiohBRfPfsG6Wkc/7V8pAwJqRsa5012m0ZYprnwUOapAG8UirrZ/VWp1Ixxo0zne6Y4NY5VCrt90kkgouiSMcDFYcjJjgSiXJbxiYGH4wzhKR40hsMYyRucsF5nucAAAC8N0rTtMjzw6PvRYLOa8ZxNhlZ75Dlk50d5MISYwietW++tw8enY7eO0GcKBJXfP/atV++9/7b997p90bHJ8tnh/OqqY2zxllrLec8z/K8yGnAfSy1rgH9YNgjBIhRIIs+KIveRQo+hGA7Q4SBkbh7+1aM0Rj9q48//fTXn/X6QxegcyRPVtqVHlhpXFM3WZYZwnQ43tndXy47Dwwgtq5DIHIhaBN14HWiW+eCRY6U+myUZUUmPn73Xe89Ir51565kSghFDK0LgsBpve6aumu3TeOcdXnuXx3OJuNgMyWikBnnJDgIDlV1frE4QwvWexdj0isyJZkClqBoqy0T4t69+6uz9brSKuuprHDOM87Gw+HW6iZGAeg6HaxrseqpvFA7m003mU2vv7EnODEfTK/qZjcDGOKgveucJSBg6DkI58k7f7wqx7Pd7549f/jw0Xg0uXHrliyKqZKdc+RjE5i11mjDpNycb5Tg0svcF5nJ81yohOXXr0jOog/W6s5sI/nIuaPogxd1XW/q9tGTF7d+dqc3GL597+5yebY8OZ7tX+OazybTXlYoxuuqOjo63mzWumnS8ejK/vWrk52i31ttzo7mB8Miu3pldzTsC5nnKHgMIFmgiIjCOne2Wh0eLQ5fHRb93oN33p1Nd87PL4a9vmKcEWyFyqSaDcfT4bisSs8xH/QKlQghN62bn9bzZUl+9exwce3adHc0vDIa9VVCxgJFQBREJKSUSl5Um/Pz01cH8yLv373/oEizQdEL7rgJVdlVaZL0R0ORqNYZ4+x5qyGybaufv5wvF8tUcs5ocbpSSDf2dn/z8Uf9RFE0DJkIIQwGg33kp6cnADECrU4XbatHO9NPPvn0xv4b3rrvXx0u1mdpmiJCs22MNsYG5zGGCDFG57fdVjKUXBigrzfPHbDfffJBLmUgEsHHVKn9vd5XiGVZx0CMCYvVX/78p7PT49//4Y8337zuKHz79NnJ6cpFskZ766zxxnhrdPCtENBpY50VJIXkIuEvDg92d3ofPLiHQMJ7YtExwGidQKF9F8AXg/7R4cHnf9965j98/6P9vSta29MvH56crbXW0TvyMTpv2sbpLQVHzuxOJxTZ+foMudrW5tGjx3duXO/lqQjBWxtevni5WCxUkgwGA2PM6uxMJOrqtatPvnuyOj5994MPR9PZ1Tf2zrZVWWuvjTMWIwVjo4nRRwiEkatUxRiauoQYaiWOT1d7sx0RQogxJmly+/ado+Ojtm2zPC/bdmc8+uy3v/3r3z5/8fRZWVf3fvFAFL237txwuq2jZyCCdZgpn0oWA6ew8Z2sGqW4bb1AYBifPvvu5CgVRAQAg8Hg9u1baZYeHBxUZRli6I9Hbz9458svvz6fn9Sr06dfud7OpD+ZXt2bZokiH4J11vsuWm86222dthACRc+RwLn92fj+3RtOdwIAiIgxppTa3Z0xxo6Ojs7Pz7gUTdNMdiZfnJ8zcratN6uzbLAsZruCCUfBOdNVlWlKZzR5w4Gy3gA4aqcZYsrp6mQwKPYEEYUQGGMMUSm5O5tIwZyzWV70iuLm9X3BqC1r3dbAuEySbHEi0yxPs+Xy1BndS1QhBU9SzhhQ7HQnhVB5hqqYLy7yVL+2iIgAiDNEKUaj4Rv71/IkS5RMJFeCa0TGWIyRtE6858ZAjLStIQTVL5RS2pi2a6PRPvj+YHD/5w/ywWBd2Ubj6wEAgIiMMQCQUk6nU+ucbrtyc2E6DQhEhIgEsFlvCBlRjJEAodxcMETnPQJIBhSjdS7Lsjdv3rTW1nXN8P8AAIwxIUSeZUjwzcOvjw7nzhiG7FIEEcUQwAcMhJEUl0oIYwwQAZH3noiMMQ8fPnz06BEA3LlzR1xqv6yXDwAQXAx7/f988cXLJ88gEgER0msVhEgAAAwQQnCGGAEEAgTOGQqu0oQxfnJy0rbtlStXBPwIfG00IQIXjAGb7uy0u7vcuK3e2uBiCACAQACvdcQQQggAxDkTQiSpzIoiyRKZpmmaIuB6vRZEdBkDIgMAhHhpBbEoBLt5++Z4Z7jerC8uLqq6NsYE65Do9bbIOGfIWKJUmqZJkuVFnqYpF0IIwTkXXP3viojocg0ACNETABeMiA12RmkvH4xHTdM0TdPWjTPWe88Y41JwJZVSQggppRSplFIIcckgIiATP3UPIVyyIQQiAiQpBAI6a5MkkVL2ej1rre2M1VprHWNEzpgU7DU4AuNc8B9xyQoAvBwBAJc/7nXaiEQghPiJvzywTCXU6znvrTE+BuDs8rgZMkTxU5aXfRhj/wUT+NatJMfLzgAAAABJRU5ErkJggg==\"/></td>\n",
       "    </tr>\n",
       "    <tr>\n",
       "      <th>3</th>\n",
       "      <td><img src=\"data:image/png;base64,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\"/></td>\n",
       "    </tr>\n",
       "    <tr>\n",
       "      <th>4</th>\n",
       "      <td><img src=\"data:image/png;base64,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\"/></td>\n",
       "    </tr>\n",
       "  </tbody>\n",
       "</table>                          </body>                                                          </html>"
      ],
      "text/plain": [
       "<IPython.core.display.HTML object>"
      ]
     },
     "metadata": {},
     "output_type": "display_data"
    }
   ],
   "source": [
    "show_neighbors(26)"
   ]
  },
  {
   "cell_type": "code",
   "execution_count": 27,
   "metadata": {},
   "outputs": [
    {
     "data": {
      "text/html": [
       "<pre>Starting pairwise querying.</pre>"
      ],
      "text/plain": [
       "Starting pairwise querying."
      ]
     },
     "metadata": {},
     "output_type": "display_data"
    },
    {
     "data": {
      "text/html": [
       "<pre>+--------------+---------+-------------+--------------+</pre>"
      ],
      "text/plain": [
       "+--------------+---------+-------------+--------------+"
      ]
     },
     "metadata": {},
     "output_type": "display_data"
    },
    {
     "data": {
      "text/html": [
       "<pre>| Query points | # Pairs | % Complete. | Elapsed Time |</pre>"
      ],
      "text/plain": [
       "| Query points | # Pairs | % Complete. | Elapsed Time |"
      ]
     },
     "metadata": {},
     "output_type": "display_data"
    },
    {
     "data": {
      "text/html": [
       "<pre>+--------------+---------+-------------+--------------+</pre>"
      ],
      "text/plain": [
       "+--------------+---------+-------------+--------------+"
      ]
     },
     "metadata": {},
     "output_type": "display_data"
    },
    {
     "data": {
      "text/html": [
       "<pre>| 0            | 1       | 0.0498753   | 7.204ms      |</pre>"
      ],
      "text/plain": [
       "| 0            | 1       | 0.0498753   | 7.204ms      |"
      ]
     },
     "metadata": {},
     "output_type": "display_data"
    },
    {
     "data": {
      "text/html": [
       "<pre>| Done         |         | 100         | 225.893ms    |</pre>"
      ],
      "text/plain": [
       "| Done         |         | 100         | 225.893ms    |"
      ]
     },
     "metadata": {},
     "output_type": "display_data"
    },
    {
     "data": {
      "text/html": [
       "<pre>+--------------+---------+-------------+--------------+</pre>"
      ],
      "text/plain": [
       "+--------------+---------+-------------+--------------+"
      ]
     },
     "metadata": {},
     "output_type": "display_data"
    },
    {
     "data": {
      "text/html": [
       "<html lang=\"en\">                                                     <head>                                                               <style>                                                              .sframe {                                                            font-size: 12px;                                                   font-family: HelveticaNeue;                                        border: 1px solid silver;                                        }                                                                  .sframe thead th {                                                   background: #F7F7F7;                                               font-family: HelveticaNeue-Medium;                                 font-size: 14px;                                                   line-height: 16.8px;                                               padding-top: 16px;                                                 padding-bottom: 16px;                                              padding-left: 10px;                                                padding-right: 38px;                                               border-top: 1px solid #E9E9E9;                                     border-bottom: 1px solid #E9E9E9;                                  white-space: nowrap;                                               overflow: hidden;                                                  text-overflow:ellipsis;                                            text-align:center;                                                 font-weight:normal;                                              }                                                                  .sframe tbody th {                                                   background: #FFFFFF;                                               text-align:left;                                                   font-weight:normal;                                                border-right: 1px solid #E9E9E9;                                 }                                                                  .sframe td {                                                         background: #FFFFFF;                                               padding-left: 10px;                                                padding-right: 38px;                                               padding-top: 14px;                                                 padding-bottom: 14px;                                              border-bottom: 1px solid #E9E9E9;                                  max-height: 0px;                                                   transition: max-height 5s ease-out;                                vertical-align: middle;                                            font-family: HelveticaNeue;                                        font-size: 12px;                                                   line-height: 16.8px;                                               background: #FFFFFF;                                             }                                                                  .sframe tr {                                                         padding-left: 10px;                                                padding-right: 38px;                                               padding-top: 14px;                                                 padding-bottom: 14px;                                              border-bottom: 1px solid #E9E9E9;                                  max-height: 0px;                                                   transition: max-height 5s ease-out;                                vertical-align: middle;                                            font-family: HelveticaNeue;                                        font-size: 12px;                                                   line-height: 16.8px;                                               background: #FFFFFF;                                             }                                                                  .sframe tr:hover {                                                   background: silver;                                              },                                                               </style>                                                         </head>                                                            <body>                                                               <h1>  </h1>                                             <table border=\"1\" class=\"dataframe sframe\">\n",
       "  <thead>\n",
       "    <tr style=\"text-align: right;\">\n",
       "      <th></th>\n",
       "      <th>SArray</th>\n",
       "    </tr>\n",
       "  </thead>\n",
       "  <tbody>\n",
       "    <tr>\n",
       "      <th>0</th>\n",
       "      <td><img src=\"data:image/png;base64,iVBORw0KGgoAAAANSUhEUgAAACAAAAAgCAIAAAD8GO2jAAAEFElEQVR4nK2WTW8cRRCG37e6e2bHu+uN7Tgk5EOR+JIAcciFAz+EK/+HfwUniIWUkCAUIARCgMQfcWzHuzszXS+HXTtrvI6NSR3m0K2qt6um+qnmF19+JTlA/G+TdHwxAgRI/l8BSXODRJJv5PgnHdHeRPDXmf1XBwKEgGm5BQF+sHNOAUImMFOZbo7grTBuIcFby9lGQOOIc53nrx4JL5l8ckgn6+BAgjoAYpthHVkgxmINzUni9AxEiRBMiEJqgjJCyuzm9QGedbKb9wQD63NmIIQRE+FUNtV9DKs8XPAX1txpc92GWwjvAgnycwoACEChYc92umE4iMNe8IWwi3rv+1+3m8EIccxspgjm0wU07QYCBghyU9vDsKf1gf5cLYdlGhtbKu/uYTy+bulaQyY4YXPu8awA5aJlBELucLeSbZXq0p93d37a+ev+2Dera8scXEBIL7e3v/72SfXe5zENLDcgACd5nBdHMhBIICKXYb9Mw+Cj6DscP213fmn2HjNpf9RfWCyo6scHa0+e1R9+uuqWgwOgIE4uCTRfQCSAyJxfbm9uPKpsVKSUkrfjl91m7AJZFuWg6i1ubO0+ePiou/IxQpjHtxMzIABC9NZSX9X1nBZyCr2lnfLp1ihuMJQWqhAXvrtze3ekW5994kWZZxROoulheAnMslQtlv1ek8rssZUSR/XuGEgWoog/nmx+s3av6GB3zG4o5HNu1yxZbXYZkCPUVjZeoGZsWLXme83eblsU3cGFC2XVub12d+v5/vrW/tPNIXh6l0eC08RIIwUBBpjJKAOQcyx6K91qb2X54m+/v7j3w8NOqTr0OoMbTuO0eY7UZxbd8RUEaQCC8gSVbgKyABSFqtVcxL+fj9bu/pyRYmEol7uDKy4/jEVy7j84xqJjc4OhLJbfrzs37j9+sTGqY1VldnpLb1f9gftpPTQR4NGkyFcTlBBCYvdqU11fH8YcS8YiW3fp8jup6vtR/nCexbmnnvUC0CII3Tp3gqXQqTq4dOnqB84CbE9ym5TrQOAUcwKCReuUFq3kxaUrg9WrWQF4ncCkDGeYB0AmZEW/vxKQWJSLl2/G3hI8h5N/wWGRz4RrB2JRFYurobeaOmFx5aZiyTb/mzvnEyBgUAv137rmPlZT9/tXoAnddOqT50wCFFog9Zculh9x1MSyl/M0/Kl2hhJNYEN3MKYqhgXBJ08Vvbb/ThKYuMwwkqBIZAKUZQCc9tVR+h9qafohAMTsLZSBGGF0iQDNIdBnNEhx+t6yqS8PYgkUzURqQpeGcBKAOy12sC+0hgKgDGJ0hGMDdjqtDtDM2V3KITfPHSpGwerc1mVKCGodsbKx1BrUGDxYlpQlBSicVl4IBBSREz2GJiKnQLBV9GRybwLDP9sWBaPTqZv5AAAAAElFTkSuQmCC\"/></td>\n",
       "    </tr>\n",
       "    <tr>\n",
       "      <th>1</th>\n",
       "      <td><img src=\"data:image/png;base64,iVBORw0KGgoAAAANSUhEUgAAACAAAAAgCAIAAAD8GO2jAAAE3klEQVR4nHVWW28VVRhd65s5N6g9PW25CtKqhIYQNCQY1BAT/RO++7989dHoA4oPxEiIl0QJSQ1qYqTQFsEeSm1pey7zLR/23jNzWtzZzZnOnr2+2/ouvPVgIDlAHFqCymcyvAFBIh6QgBi/rdbEm9zMpIPoAkRRBKi6cKa/8i0DkNU+EVAKRk4SEhj0pUAJguIXwQoSgBRRVSJXksVJK0BAIJBXehESBXqAqhtU2ih5uk8waC+IyZDoRSRNhFxC0EygAEnCYZ9Vtyf/C7gJXVFu0okgckEOAXQBkADx5SFTTUJyiFSdM2hd3g225I5otSeECSBCABOHREEiUyAPqgFNslFAXgQDBTFKd9XYp/pPxJIiVRPYgZBNrFyAhyAm2iveVVDMMiuGo9H+sHm0A0IOkvQS3mtJUVc9Gp0LcFCVySUHCMBVPH2w9v2NrwebGxffe3fp2jtZq+NyVnAEFRkSb6o6gnKXHAItCU6xBkiOR8Ofbt25+dmn8z1tPfnDWFz44COIpJXcVaVT7Sce0kASBAgFmjJcJCmpdaR95frVcxcvnVp4rdMZ3//m8yf37tLoLoBSpbdCkmJCDAAzwBjTv252+IrM2ken8yO9qU7nxFTeerHy6LsvBpsbWZ6VOIqUECEoLUa6W6kBATLtUDQAE7KMY+HZzu7sbPf0uePPH/76bPkejYRiIOp5w0lGEUYyOihsiSHbKJLyojfXO7+0tFU0+rujqfljWbfz252bO6uP8jyDw0ATrCbByBoFYDHBSYs+AQkjjMwIONqd5ltXrzTa07+vrD/e+Ld7fPbBn8t3b94oBntGJ2SQpbyhDmyZkQQCurG2ARIZWYyKhfOLZ8++ubb+9Iefl5fv/9Xf2Vz+5c52v99oMEAbkEEZZHDCCZECRcIyKQMIhVAbaICBISpGcuzTM91r719vtU8839b644E1pgzCcECQZNKJaUf9MsCAnECWKoPHTGAsiXDCQOTMXpluH5898+HHn5y9sPDj7W831tZn5noYu0VCxJLMlKFxKTWcRAco1ty4AckgFN1u71jv6NxcZ/Hy5XZv5vaXX+3u7Mx3Z0ejgoArVUnUwQHCLMYVrNlFRhalJES3N9dqN/t/rw72h7OnTp9cOPdkZa3ZpEFmMZMYbUhboGCI0SBDTpcRRqwWsXDmnOr1OBjIi0Yzf/X1xa3+8+FgmJlB4ZYYfTyxLDWYwyaWzCakvNmenek1aDQbD/zY6dP7g0H/8VPLU1HihPMrAdGSlwlgGTLjaLhf7L6YmZ/L8ob7uNVpL719qdVueRErPVOBOSQgkDKu6qnMRklm3O5vrq+uN2e6oBGQcOaNxanujLyI3FBK2VJVEqQZSgZVRupQC2s0m+7w4bicW8bjwv1A9QzDT63V1Qem/1sk5D7V655cXByNRmTo4TSzwPB6vwoTSVlKXYpl6kCcQzOIC5Ara7Qa091/NrcKH5c+EeiABA9JmnpQuOeSAItn6UZ5XJmQJrrtvdHKw9XB3p5ExwR6qGweKhHgqlIvj9apctvk6KHoJGk4HKIozOhkaP1eDpjBA2GqCWELPgDy2CPL3hGtKeEZ5iIVjtFwbn4WzbYXqnXHOJYGYSU6ACeQxhbUP/aJ6YwCzLi3s7u7tbVw4pQDBQjCy6avhJueVetr/wGhad7TTZG0+QAAAABJRU5ErkJggg==\"/></td>\n",
       "    </tr>\n",
       "    <tr>\n",
       "      <th>2</th>\n",
       "      <td><img src=\"data:image/png;base64,iVBORw0KGgoAAAANSUhEUgAAACAAAAAgCAIAAAD8GO2jAAAFY0lEQVR4nH1W264kRxGMyKq5nvvZtfd4wRZG4gGeLNlIXP6An+Br+Bj+gw9ACCSMQLLkxfZe4dz2nOnujOChunvOmoXUTEvTU5WZFRkVmfzd7/8aBbUGw7YBALDhJAADgDG+BgACnH8GWQIAGYRZQBoGCCX7bpBdZYYBhKx3AtgAyWk7OPqcwgIG2Va11WHAHFMyjbBdAUoahjSlaStNum0ExjhmM4OcVmGMK6mlNZtNpWVXOAznIIVFjBkDdXKzB6fZfJYZssmx9CCAYMNilQyYdFoKByP+y/X/tzlvSbZB0LQjE7Zr2gCiwWwRZMNxH4YiTTkYMJl0MQII2uEx74YlRqJYsCgDNce/SmFUJ8EYkYoZGgGOBAuRZGcvYcIkSGiqCCJKagTQhItt1IdgzvjyIc4GjVBWZmHSCQ8YCTMW7ftgjbUByZam/YDr9v5CtLXmkihFogyD4OSYBGCTJKYv3glTbcMW1QI2wpVSJM2kIRTDXbFKDWFw9lZxFtYV6gJARBgwGIZtSY1aBGs7GW0ZtGzPWdgmA9aqu7w4uD5flN6u69LvMjNuru6+e9Xj/NPFapUw/gf15hrQVloACqNdMgIGCvJweLG9enZ+tD19dP62u8mK1fbwKq9fff3yevV4tdlIg/3+CHUC3wKBQpIRZi3I8K7HclF0ffXyL3/8w9lCv/7Fz09PV/d9d+1Vf3N1GMOd7mBVDz2XD08xXgiyWrbVcARogwKDMSqFg3r578s/ffnVSR0ub++ePjk/OjlZb0839OXVffmwdixkGViJ/VX2xLAqqQWYhACyQkLACNgVCePFq9eX+fb45PjZ8zdRVmfnj3/5+WePLj68PVjfwEGKDrzHaiMsgEabdg4ChAWSqO7V3VbayhzyzV23U//VixdD0cVHH3989uNatvBA9PJSkx4FKQJEHfF68CTZyGYjSPS3/3r2j08eHz05u1ivqhbHPVC0+O6bv/39yz8//eftZ7/57bKWtNVIvzfDrEpJ2WoQEbYzE4Ao0xXW7u3pYtheHJ9sl6XWEy+d/elmVZZnl7vV1dEnioOOpbmbfctOCUQVbFIw7fkS2BZMhtMc8umj46xvloXUsFks1rFdL7s8OHz6+IvXx1/clJUAWJPuNS2AEURUESRNyqZUSiFpQ0QBYRBxuFlu6sF6vYy7222guGrh45/+7Or8V9++3hb1BFLj/eWo29H0r4LTW5vW3LUABeASinpwdHzmWyIzdwtn5nD4wUcXP/n821erIUVAgFKpPT6SBBKIfVUmGXHrQQI0yBi44GItu+97lIUQWsThxac3/OD59dDIMHHdbvhITTEtV1tja49xJADJiHFhqsNix9Vdr+x69yr9sH10uHnyo6/fbq93bxttGjvbcKCxlrAMuLY7h1nUxxNxltYhll2s7zN290PXA51/sNlqc/78uXpFcN8GGrMxjRmSGU3sjHe10HjQPBKlw6q49CgDKyLq0dmtlpc3Kc9tDwYkN4UwKLuxpoZBC2pdhAAkk73CHaNIdkluBhbTFCqXB4c/vNPx/ZBhiIE2NBgKthOkkFNPDhrwfvQYiwMbUmOYKVQhBCmzMrYHZ7f37ge1bMZP22OmnBqbovF+gfqe0QgjZAxSWdSjo5PdbhikdGpv2bjUbD9delKh0VnTVE9DqQ3CKGY1w/R6u16uN30GWOcpYe7ibTSa5YBgBOeJ7d0qT4gBJBdGaScYlP2gXSd57vPzZMEWZ++PqKM+zzEfrMY4+pBRZQ6pzOyzH1K7LtNhKxiYiN1ct5xmROoExFTfNpwaFGAI6KVOWIhDr0wNUi902VtmCkibsGzCRIowAEG2aP4HvkJL6aoFXOEAAAAASUVORK5CYII=\"/></td>\n",
       "    </tr>\n",
       "    <tr>\n",
       "      <th>3</th>\n",
       "      <td><img src=\"data:image/png;base64,iVBORw0KGgoAAAANSUhEUgAAACAAAAAgCAIAAAD8GO2jAAAHPklEQVR4nDWV+3qcZw3EZ6T3O+zBazuxUydtDi2FB+6cq+AaeOBpKYWUJoWQ1HHstdfe7/BKwx8bdAMaaTQ/8Y9/+pSZZjRzo0WNzACQElMGAMjMTFFaNByH24f77bAfzZpqzJwVqmGjSs1ZOcY811rnGhmBjGLWkmnmBNwIBwCSJoFyUhKZpCzn6e7jp8s3w/4667Q5Ot4slpE51ay2IPsJFmrTSCMpIlIopEOEKEACCbODboACRAIQiKzTcPNO+0ubrj3HjefL8w3pv/z38naeh2kHrGk9ZJJBgCSpuHni/6odRCNJUkqIQIokQEpTTKveNOTrNz8xHhbaNRenT589d063tfzl9bubq09Hj56DLa0UbyJDkpnDDO40AwEAZkbyMIq7l1LcHWAqdw+3f//x+8tf3w8PD7+8+fny1/e0PDvbFI7XH9/+5+13D7tfSwNzNxYzN7PS9z5NKUkCQIKfS6TRQZKAIhPkD6//8frnn5dlfvbk/NWXz7vF6ru//uVqu/3+X29fv7vcTzYMV0fdi0BRJNJTURa9ERaZKSEJmSTSaGACEJAQjGxahzmBAn11/uTbl6/+/eHdD//44d/vP+xqhDelrIqbmcNIo9FIlsYQTtJSSpjSSEiJpAxSNVTCyew6vHj27OHdyYb3pw2v3v78nw/vmq7bnJzub25q5mq5Wa3PIikQhCiSxZjGdBpgImkEpCSdECQS5jJJ83x/tizfXJy1c9O7t0336uJiN46enPbj9mEo1nlZ4BAe4mBpcavGEE0wEIIAyEASgpKgGcs8zcuS3uVV7FddN+zHu920Hx+ut9fzHD29et+uT0q3EEF8NpRkWSy81tQsADQcOihFgrQkRSeomI6X/nH73nL8+uXvr7e7f/70JjQP87DP3Afb9cnTl992y/U+DtJ5yJs1xbu2tI01BU1BcRaTG9zgJnfSKGmz6o5Xzc3t1YuvXz159my734/KsZQ7xT3i3qx2q7I6gbcAjAKJg8lIlGIgayAqoipTNAEiSCJBGNfL7vHp0ebs0c3N9s8//Pj++pO6EuBujtkwylztmG50QxiQ/EyMooQbAJkxjJWoQaUykyANBkujUe2iazeb7/72Y2uN9b3VOYaqZGSCpes2VhaiHYJzSBSAgoSBZpAwM1loFVkpObIKgezDFLQp+kQ/53x6clKT11e3+3Ei5TBrV8dnX/XLjUCQdFIJSkBZLwWoaWwc6+2YgrMgQaSJkQmQ3lhU2+6ib9dH61XXt9e/3tzf72okke6LdvPo0dMXbb+sdQ4zSmQAAlnOHlMpM80z6ha390GY0WEUHGCCSJKl1vr4/AnIj1efdrt9rZHKpulLf3Jy/mJ9cg5vpCylAEilwhVWGtRkQugaHvU+DllDIWUSMtLMKECgZE+/fL46Onr940+pxkopIJv15uKbs+e/9W4lsSgydYC9ak0zO1yjyV2+bP2ot87RGIzi/0lNEw0Q15vji6dfzTWmOUJIa9rl44vnfzg5+6qUngDJUtzdDyR29wIQcBIAugablTWF93tgQiTisCCJhU4vDTfHJ6TPEYEML0/OX2zOX5b+mEGkxWdWkuRn2gtIJsBDiPuWTWtJjSERMJACZAZPQp8niqyzsl8fnV68ahaPrPTSCKfkJtmBpocGAcypGnF46zRLFAGlQLNoakq6URO9MmLSHGZMKGH98vj08ZOma3ig5AGc/ExruSms7CcMI4YJNSiqNDCDEm6SC1TXZVt8EjIzpj3G2YBwQc16dfL4ZN0scz+NSpZ0sQYRRnMqTWblZpfTrDkRSZq7UFyN0RwN6Gbr3rrWhtQkQDXmAJlIwp4+efy7by5QmstP89V1HcKqOS3posQIkmWYbU4lmCaDoQqSFbmp0ArMlJbZt2zpuMc4TTVDQOP+6sXTF1+ezIn1Mgp2bz/sg5aHYwIIGWQJgCYDDAAzLQNRU0ozGTBPMU+1KVj0pU7T9vZ2zkqzvm2/OH/kBleuWj457RadEzKkaTaNDWvDKMUEBZVJACZQQkSaMXH4Psw00Iw5j+N+HKokYNF1x5sjAIoY9xUR60V5GIaSIRNb70t/d3NXjpd6GGok6GUUagoQZBmsACwKOQf3oxpE1JBUMwRbLpaL5RqAubsllV+cLhoLY7taFDcw7fJDW06W1sAjAbObRERCkCwq3RQMoERyesiSU9SodU6JZNt2YPswCKFM7zpfNaVhdI1ON8s6jVG59FKMahuTDGALJV0SBAmaJaEaCORME+s8TdNc0EiOtru+V/2YzFCqX5SuwWrVEEpiP0cNv5tVxikiQCAiUWuLYsXqHKKKwWkhppiRmZF1ToFhIK3rhlAzpgVrzPfzvBt80XWSri/32+3dwxDb3VgIvn/37s2bX26ut5cfbxbL1dnZ49vbu8Vi8ZuvX56fn9L7mg5EYV7d7+73DwJIbo7Wm6NmvWRL297Zzf1+d2/GkDQMwzDU/TQ+DPv/ARVcyomYf/2UAAAAAElFTkSuQmCC\"/></td>\n",
       "    </tr>\n",
       "    <tr>\n",
       "      <th>4</th>\n",
       "      <td><img src=\"data:image/png;base64,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\"/></td>\n",
       "    </tr>\n",
       "  </tbody>\n",
       "</table>                          </body>                                                          </html>"
      ],
      "text/plain": [
       "<IPython.core.display.HTML object>"
      ]
     },
     "metadata": {},
     "output_type": "display_data"
    }
   ],
   "source": [
    "show_neighbors(1222)"
   ]
  },
  {
   "cell_type": "code",
   "execution_count": null,
   "metadata": {},
   "outputs": [],
   "source": []
  }
 ],
 "metadata": {
  "kernelspec": {
   "display_name": "Python 3",
   "language": "python",
   "name": "python3"
  },
  "language_info": {
   "codemirror_mode": {
    "name": "ipython",
    "version": 3
   },
   "file_extension": ".py",
   "mimetype": "text/x-python",
   "name": "python",
   "nbconvert_exporter": "python",
   "pygments_lexer": "ipython3",
   "version": "3.6.9"
  }
 },
 "nbformat": 4,
 "nbformat_minor": 4
}
